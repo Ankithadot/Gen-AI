{
  "cells": [
    {
      "cell_type": "markdown",
      "metadata": {
        "id": "7QKp-GCgBIi4"
      },
      "source": [
        "**Name:Ankitha**\n",
        "\n",
        "**Date:01/june/2025**"
      ]
    },
    {
      "cell_type": "markdown",
      "metadata": {
        "id": "ItliRaXNKzw3"
      },
      "source": [
        "# **STEP 1**"
      ]
    },
    {
      "cell_type": "code",
      "execution_count": 7,
      "metadata": {
        "colab": {
          "base_uri": "https://localhost:8080/",
          "height": 206
        },
        "id": "tQlD4H7nhKbP",
        "outputId": "351b181c-9e23-4592-9984-a6ec037a9763"
      },
      "outputs": [
        {
          "data": {
            "application/vnd.google.colaboratory.intrinsic+json": {
              "summary": "{\n  \"name\": \"df\",\n  \"rows\": 5,\n  \"fields\": [\n    {\n      \"column\": \"SentenceID\",\n      \"properties\": {\n        \"dtype\": \"number\",\n        \"std\": 1,\n        \"min\": 1,\n        \"max\": 5,\n        \"num_unique_values\": 5,\n        \"samples\": [\n          2,\n          5,\n          3\n        ],\n        \"semantic_type\": \"\",\n        \"description\": \"\"\n      }\n    },\n    {\n      \"column\": \"Sentence\",\n      \"properties\": {\n        \"dtype\": \"string\",\n        \"num_unique_values\": 5,\n        \"samples\": [\n          \"Natural Language Processing is fascinating.\",\n          \"Data preprocessing is a crucial step in NLP.\",\n          \"Spacy and NLTK are popular NLP libraries.\"\n        ],\n        \"semantic_type\": \"\",\n        \"description\": \"\"\n      }\n    }\n  ]\n}",
              "type": "dataframe",
              "variable_name": "df"
            },
            "text/html": [
              "\n",
              "  <div id=\"df-137278fe-75a3-4538-99cf-b4526d4d955c\" class=\"colab-df-container\">\n",
              "    <div>\n",
              "<style scoped>\n",
              "    .dataframe tbody tr th:only-of-type {\n",
              "        vertical-align: middle;\n",
              "    }\n",
              "\n",
              "    .dataframe tbody tr th {\n",
              "        vertical-align: top;\n",
              "    }\n",
              "\n",
              "    .dataframe thead th {\n",
              "        text-align: right;\n",
              "    }\n",
              "</style>\n",
              "<table border=\"1\" class=\"dataframe\">\n",
              "  <thead>\n",
              "    <tr style=\"text-align: right;\">\n",
              "      <th></th>\n",
              "      <th>SentenceID</th>\n",
              "      <th>Sentence</th>\n",
              "    </tr>\n",
              "  </thead>\n",
              "  <tbody>\n",
              "    <tr>\n",
              "      <th>0</th>\n",
              "      <td>1</td>\n",
              "      <td>I love programming in Python.</td>\n",
              "    </tr>\n",
              "    <tr>\n",
              "      <th>1</th>\n",
              "      <td>2</td>\n",
              "      <td>Natural Language Processing is fascinating.</td>\n",
              "    </tr>\n",
              "    <tr>\n",
              "      <th>2</th>\n",
              "      <td>3</td>\n",
              "      <td>Spacy and NLTK are popular NLP libraries.</td>\n",
              "    </tr>\n",
              "    <tr>\n",
              "      <th>3</th>\n",
              "      <td>4</td>\n",
              "      <td>Machine learning enables predictive analysis.</td>\n",
              "    </tr>\n",
              "    <tr>\n",
              "      <th>4</th>\n",
              "      <td>5</td>\n",
              "      <td>Data preprocessing is a crucial step in NLP.</td>\n",
              "    </tr>\n",
              "  </tbody>\n",
              "</table>\n",
              "</div>\n",
              "    <div class=\"colab-df-buttons\">\n",
              "\n",
              "  <div class=\"colab-df-container\">\n",
              "    <button class=\"colab-df-convert\" onclick=\"convertToInteractive('df-137278fe-75a3-4538-99cf-b4526d4d955c')\"\n",
              "            title=\"Convert this dataframe to an interactive table.\"\n",
              "            style=\"display:none;\">\n",
              "\n",
              "  <svg xmlns=\"http://www.w3.org/2000/svg\" height=\"24px\" viewBox=\"0 -960 960 960\">\n",
              "    <path d=\"M120-120v-720h720v720H120Zm60-500h600v-160H180v160Zm220 220h160v-160H400v160Zm0 220h160v-160H400v160ZM180-400h160v-160H180v160Zm440 0h160v-160H620v160ZM180-180h160v-160H180v160Zm440 0h160v-160H620v160Z\"/>\n",
              "  </svg>\n",
              "    </button>\n",
              "\n",
              "  <style>\n",
              "    .colab-df-container {\n",
              "      display:flex;\n",
              "      gap: 12px;\n",
              "    }\n",
              "\n",
              "    .colab-df-convert {\n",
              "      background-color: #E8F0FE;\n",
              "      border: none;\n",
              "      border-radius: 50%;\n",
              "      cursor: pointer;\n",
              "      display: none;\n",
              "      fill: #1967D2;\n",
              "      height: 32px;\n",
              "      padding: 0 0 0 0;\n",
              "      width: 32px;\n",
              "    }\n",
              "\n",
              "    .colab-df-convert:hover {\n",
              "      background-color: #E2EBFA;\n",
              "      box-shadow: 0px 1px 2px rgba(60, 64, 67, 0.3), 0px 1px 3px 1px rgba(60, 64, 67, 0.15);\n",
              "      fill: #174EA6;\n",
              "    }\n",
              "\n",
              "    .colab-df-buttons div {\n",
              "      margin-bottom: 4px;\n",
              "    }\n",
              "\n",
              "    [theme=dark] .colab-df-convert {\n",
              "      background-color: #3B4455;\n",
              "      fill: #D2E3FC;\n",
              "    }\n",
              "\n",
              "    [theme=dark] .colab-df-convert:hover {\n",
              "      background-color: #434B5C;\n",
              "      box-shadow: 0px 1px 3px 1px rgba(0, 0, 0, 0.15);\n",
              "      filter: drop-shadow(0px 1px 2px rgba(0, 0, 0, 0.3));\n",
              "      fill: #FFFFFF;\n",
              "    }\n",
              "  </style>\n",
              "\n",
              "    <script>\n",
              "      const buttonEl =\n",
              "        document.querySelector('#df-137278fe-75a3-4538-99cf-b4526d4d955c button.colab-df-convert');\n",
              "      buttonEl.style.display =\n",
              "        google.colab.kernel.accessAllowed ? 'block' : 'none';\n",
              "\n",
              "      async function convertToInteractive(key) {\n",
              "        const element = document.querySelector('#df-137278fe-75a3-4538-99cf-b4526d4d955c');\n",
              "        const dataTable =\n",
              "          await google.colab.kernel.invokeFunction('convertToInteractive',\n",
              "                                                    [key], {});\n",
              "        if (!dataTable) return;\n",
              "\n",
              "        const docLinkHtml = 'Like what you see? Visit the ' +\n",
              "          '<a target=\"_blank\" href=https://colab.research.google.com/notebooks/data_table.ipynb>data table notebook</a>'\n",
              "          + ' to learn more about interactive tables.';\n",
              "        element.innerHTML = '';\n",
              "        dataTable['output_type'] = 'display_data';\n",
              "        await google.colab.output.renderOutput(dataTable, element);\n",
              "        const docLink = document.createElement('div');\n",
              "        docLink.innerHTML = docLinkHtml;\n",
              "        element.appendChild(docLink);\n",
              "      }\n",
              "    </script>\n",
              "  </div>\n",
              "\n",
              "\n",
              "    <div id=\"df-f6a51e2f-69da-450d-9061-9d30a22ed16c\">\n",
              "      <button class=\"colab-df-quickchart\" onclick=\"quickchart('df-f6a51e2f-69da-450d-9061-9d30a22ed16c')\"\n",
              "                title=\"Suggest charts\"\n",
              "                style=\"display:none;\">\n",
              "\n",
              "<svg xmlns=\"http://www.w3.org/2000/svg\" height=\"24px\"viewBox=\"0 0 24 24\"\n",
              "     width=\"24px\">\n",
              "    <g>\n",
              "        <path d=\"M19 3H5c-1.1 0-2 .9-2 2v14c0 1.1.9 2 2 2h14c1.1 0 2-.9 2-2V5c0-1.1-.9-2-2-2zM9 17H7v-7h2v7zm4 0h-2V7h2v10zm4 0h-2v-4h2v4z\"/>\n",
              "    </g>\n",
              "</svg>\n",
              "      </button>\n",
              "\n",
              "<style>\n",
              "  .colab-df-quickchart {\n",
              "      --bg-color: #E8F0FE;\n",
              "      --fill-color: #1967D2;\n",
              "      --hover-bg-color: #E2EBFA;\n",
              "      --hover-fill-color: #174EA6;\n",
              "      --disabled-fill-color: #AAA;\n",
              "      --disabled-bg-color: #DDD;\n",
              "  }\n",
              "\n",
              "  [theme=dark] .colab-df-quickchart {\n",
              "      --bg-color: #3B4455;\n",
              "      --fill-color: #D2E3FC;\n",
              "      --hover-bg-color: #434B5C;\n",
              "      --hover-fill-color: #FFFFFF;\n",
              "      --disabled-bg-color: #3B4455;\n",
              "      --disabled-fill-color: #666;\n",
              "  }\n",
              "\n",
              "  .colab-df-quickchart {\n",
              "    background-color: var(--bg-color);\n",
              "    border: none;\n",
              "    border-radius: 50%;\n",
              "    cursor: pointer;\n",
              "    display: none;\n",
              "    fill: var(--fill-color);\n",
              "    height: 32px;\n",
              "    padding: 0;\n",
              "    width: 32px;\n",
              "  }\n",
              "\n",
              "  .colab-df-quickchart:hover {\n",
              "    background-color: var(--hover-bg-color);\n",
              "    box-shadow: 0 1px 2px rgba(60, 64, 67, 0.3), 0 1px 3px 1px rgba(60, 64, 67, 0.15);\n",
              "    fill: var(--button-hover-fill-color);\n",
              "  }\n",
              "\n",
              "  .colab-df-quickchart-complete:disabled,\n",
              "  .colab-df-quickchart-complete:disabled:hover {\n",
              "    background-color: var(--disabled-bg-color);\n",
              "    fill: var(--disabled-fill-color);\n",
              "    box-shadow: none;\n",
              "  }\n",
              "\n",
              "  .colab-df-spinner {\n",
              "    border: 2px solid var(--fill-color);\n",
              "    border-color: transparent;\n",
              "    border-bottom-color: var(--fill-color);\n",
              "    animation:\n",
              "      spin 1s steps(1) infinite;\n",
              "  }\n",
              "\n",
              "  @keyframes spin {\n",
              "    0% {\n",
              "      border-color: transparent;\n",
              "      border-bottom-color: var(--fill-color);\n",
              "      border-left-color: var(--fill-color);\n",
              "    }\n",
              "    20% {\n",
              "      border-color: transparent;\n",
              "      border-left-color: var(--fill-color);\n",
              "      border-top-color: var(--fill-color);\n",
              "    }\n",
              "    30% {\n",
              "      border-color: transparent;\n",
              "      border-left-color: var(--fill-color);\n",
              "      border-top-color: var(--fill-color);\n",
              "      border-right-color: var(--fill-color);\n",
              "    }\n",
              "    40% {\n",
              "      border-color: transparent;\n",
              "      border-right-color: var(--fill-color);\n",
              "      border-top-color: var(--fill-color);\n",
              "    }\n",
              "    60% {\n",
              "      border-color: transparent;\n",
              "      border-right-color: var(--fill-color);\n",
              "    }\n",
              "    80% {\n",
              "      border-color: transparent;\n",
              "      border-right-color: var(--fill-color);\n",
              "      border-bottom-color: var(--fill-color);\n",
              "    }\n",
              "    90% {\n",
              "      border-color: transparent;\n",
              "      border-bottom-color: var(--fill-color);\n",
              "    }\n",
              "  }\n",
              "</style>\n",
              "\n",
              "      <script>\n",
              "        async function quickchart(key) {\n",
              "          const quickchartButtonEl =\n",
              "            document.querySelector('#' + key + ' button');\n",
              "          quickchartButtonEl.disabled = true;  // To prevent multiple clicks.\n",
              "          quickchartButtonEl.classList.add('colab-df-spinner');\n",
              "          try {\n",
              "            const charts = await google.colab.kernel.invokeFunction(\n",
              "                'suggestCharts', [key], {});\n",
              "          } catch (error) {\n",
              "            console.error('Error during call to suggestCharts:', error);\n",
              "          }\n",
              "          quickchartButtonEl.classList.remove('colab-df-spinner');\n",
              "          quickchartButtonEl.classList.add('colab-df-quickchart-complete');\n",
              "        }\n",
              "        (() => {\n",
              "          let quickchartButtonEl =\n",
              "            document.querySelector('#df-f6a51e2f-69da-450d-9061-9d30a22ed16c button');\n",
              "          quickchartButtonEl.style.display =\n",
              "            google.colab.kernel.accessAllowed ? 'block' : 'none';\n",
              "        })();\n",
              "      </script>\n",
              "    </div>\n",
              "\n",
              "    </div>\n",
              "  </div>\n"
            ],
            "text/plain": [
              "   SentenceID                                       Sentence\n",
              "0           1                  I love programming in Python.\n",
              "1           2    Natural Language Processing is fascinating.\n",
              "2           3      Spacy and NLTK are popular NLP libraries.\n",
              "3           4  Machine learning enables predictive analysis.\n",
              "4           5   Data preprocessing is a crucial step in NLP."
            ]
          },
          "execution_count": 7,
          "metadata": {},
          "output_type": "execute_result"
        }
      ],
      "source": [
        "# Load the CSV file\n",
        "import pandas as pd\n",
        "df = pd.read_csv(\"/content/NLP_Assignment_Sentences.csv\")\n",
        "\n",
        "df.head()"
      ]
    },
    {
      "cell_type": "markdown",
      "metadata": {
        "id": "4djRHyVekwb3"
      },
      "source": []
    },
    {
      "cell_type": "markdown",
      "metadata": {
        "id": "97GuEr9PkwzT"
      },
      "source": [
        "**Load the Dataset**"
      ]
    },
    {
      "cell_type": "markdown",
      "metadata": {
        "id": "KVSAxQMIk4vt"
      },
      "source": [
        "We load dataset using pandas library. The function pd.read_csv() reads the CSV file from the specified path into a Dataframe, a data structure that allows for efficient data manipulation and analysis."
      ]
    },
    {
      "cell_type": "code",
      "execution_count": 7,
      "metadata": {
        "colab": {
          "base_uri": "https://localhost:8080/"
        },
        "id": "9cVUqg_JGAg3",
        "outputId": "fe44c28a-91c8-43de-9577-2a33d2c2440b"
      },
      "outputs": [
        {
          "name": "stdout",
          "output_type": "stream",
          "text": [
            "Requirement already satisfied: pandas in /usr/local/lib/python3.11/dist-packages (2.2.2)\n",
            "Requirement already satisfied: nltk in /usr/local/lib/python3.11/dist-packages (3.9.1)\n",
            "Requirement already satisfied: numpy>=1.23.2 in /usr/local/lib/python3.11/dist-packages (from pandas) (2.0.2)\n",
            "Requirement already satisfied: python-dateutil>=2.8.2 in /usr/local/lib/python3.11/dist-packages (from pandas) (2.9.0.post0)\n",
            "Requirement already satisfied: pytz>=2020.1 in /usr/local/lib/python3.11/dist-packages (from pandas) (2025.2)\n",
            "Requirement already satisfied: tzdata>=2022.7 in /usr/local/lib/python3.11/dist-packages (from pandas) (2025.2)\n",
            "Requirement already satisfied: click in /usr/local/lib/python3.11/dist-packages (from nltk) (8.2.1)\n",
            "Requirement already satisfied: joblib in /usr/local/lib/python3.11/dist-packages (from nltk) (1.5.0)\n",
            "Requirement already satisfied: regex>=2021.8.3 in /usr/local/lib/python3.11/dist-packages (from nltk) (2024.11.6)\n",
            "Requirement already satisfied: tqdm in /usr/local/lib/python3.11/dist-packages (from nltk) (4.67.1)\n",
            "Requirement already satisfied: six>=1.5 in /usr/local/lib/python3.11/dist-packages (from python-dateutil>=2.8.2->pandas) (1.17.0)\n"
          ]
        }
      ],
      "source": [
        "!pip install pandas nltk\n",
        "\n",
        "import nltk\n",
        "try:\n",
        "    nltk.data.find('tokenizers/punkt')\n",
        "except nltk.downloader.DownloadError:\n",
        "    print(\"Punkt tokenizer not found, downloading...\")\n",
        "    nltk.download('punkt')"
      ]
    },
    {
      "cell_type": "code",
      "execution_count": 12,
      "metadata": {
        "colab": {
          "base_uri": "https://localhost:8080/"
        },
        "id": "PbN6sh4pHf-b",
        "outputId": "9869f234-29e6-48ce-8a09-3fc878dec97a"
      },
      "outputs": [
        {
          "name": "stderr",
          "output_type": "stream",
          "text": [
            "[nltk_data] Downloading package punkt to /root/nltk_data...\n",
            "[nltk_data]   Package punkt is already up-to-date!\n",
            "[nltk_data] Downloading package punkt_tab to /root/nltk_data...\n",
            "[nltk_data]   Unzipping tokenizers/punkt_tab.zip.\n"
          ]
        },
        {
          "name": "stdout",
          "output_type": "stream",
          "text": [
            "                                        Sentence  \\\n",
            "0                  I love programming in Python.   \n",
            "1    Natural Language Processing is fascinating.   \n",
            "2      Spacy and NLTK are popular NLP libraries.   \n",
            "3  Machine learning enables predictive analysis.   \n",
            "4   Data preprocessing is a crucial step in NLP.   \n",
            "\n",
            "                                              Tokens  \n",
            "0              [I, love, programming, in, Python, .]  \n",
            "1  [Natural, Language, Processing, is, fascinatin...  \n",
            "2  [Spacy, and, NLTK, are, popular, NLP, librarie...  \n",
            "3  [Machine, learning, enables, predictive, analy...  \n",
            "4  [Data, preprocessing, is, a, crucial, step, in...  \n"
          ]
        }
      ],
      "source": [
        "import nltk\n",
        "from nltk.tokenize import word_tokenize\n",
        "import pandas as pd # Import pandas\n",
        "\n",
        "# Load the CSV file\n",
        "df = pd.read_csv(\"/content/NLP_Assignment_Sentences.csv\")\n",
        "\n",
        "# Download the necessary NLTK resources\n",
        "nltk.download('punkt')\n",
        "# Download punkt_tab resource as suggested by the traceback\n",
        "nltk.download('punkt_tab')\n",
        "\n",
        "\n",
        "# Tokenize each sentence\n",
        "df['Tokens'] = df['Sentence'].apply(word_tokenize)\n",
        "\n",
        "# Display the DataFrame with the new 'Tokens' column\n",
        "print(df[['Sentence', 'Tokens']].head())"
      ]
    },
    {
      "cell_type": "markdown",
      "metadata": {
        "id": "zzwMAnq6H41B"
      },
      "source": [
        "⭐ TOKENIZATION"
      ]
    },
    {
      "cell_type": "markdown",
      "metadata": {
        "id": "VxQVbmLbKDSO"
      },
      "source": [
        " THE PROCESS OF BREAKING DOWN A SENTENCE OR TEXT INTO INDIVIDUAL UNITS CALLED TOKENS. THESE TOKENS ARE TYPICALLY WORDS, BUT CAN ALSO INCLUDE PUNCTUATION MARKS OR OTHER MEANINGFUL ELEMENTS."
      ]
    },
    {
      "cell_type": "markdown",
      "metadata": {
        "id": "I9UMKb5gKHad"
      },
      "source": [
        "# **🔨 What We Used word_tokenize**"
      ]
    },
    {
      "cell_type": "markdown",
      "metadata": {
        "id": "seblzj76KgiP"
      },
      "source": [
        " A FUNCTION FROM THE NLTK LIBRARY THAT SPLITS TEXT INTO WORDS AND PUNCTUATION USING ROBUST LINGUISTIC RULES.apply(): USED TO APPLY THE TOKENIZATION FUNCTION TO EACH SENTENCE IN THE DATASET."
      ]
    },
    {
      "cell_type": "markdown",
      "metadata": {
        "id": "eIB5UHOMLLnW"
      },
      "source": [
        "# **STEP 2 (Stemming)**"
      ]
    },
    {
      "cell_type": "code",
      "execution_count": 13,
      "metadata": {
        "id": "1wAK-iXtLSE_"
      },
      "outputs": [],
      "source": [
        "# step-->2 Text preprocessing\n",
        "from nltk.stem import PorterStemmer\n",
        "\n",
        "stemmer = PorterStemmer()\n",
        "df['Stemmed'] = df['Tokens'].apply(lambda tokens: [stemmer.stem(word) for word in tokens])"
      ]
    },
    {
      "cell_type": "markdown",
      "metadata": {
        "id": "hB0jlcABPufO"
      },
      "source": [
        "# 📌WHAT IS STEMMING?\n",
        "\n",
        "\n",
        "# Definition:\n",
        "Stemming is a rule-based process that reduces words to their base form by removing suffixes or prefixes.\n",
        "Example:\n",
        "Stemming \"running,\" \"runs,\" and \"ran\" would result in \"run\".\n",
        "# Characteristics:\n",
        "Rule-based: It relies on predefined rules to remove affixes.\n",
        "Faster: Generally faster than lemmatization due to its rule-based nature.\n",
        "Less accurate: May not always result in a valid base word, and can be less accurate than lemmatization in some cases.\n",
        "# Use cases:\n",
        "Stemming is often used in situations where speed is prioritized over accuracy, such as in information retrieval systems where the goal is to find relevant documents quickly."
      ]
    },
    {
      "cell_type": "markdown",
      "metadata": {
        "id": "vqU8D6kmMRZv"
      },
      "source": [
        "# **STEP_2(Lemmatization)**"
      ]
    },
    {
      "cell_type": "code",
      "execution_count": 14,
      "metadata": {
        "colab": {
          "base_uri": "https://localhost:8080/"
        },
        "id": "J6fBfC0kMgpv",
        "outputId": "bf96a204-ffff-4e81-d854-ac4d701afa04"
      },
      "outputs": [
        {
          "name": "stderr",
          "output_type": "stream",
          "text": [
            "[nltk_data] Downloading package wordnet to /root/nltk_data...\n",
            "[nltk_data] Downloading package omw-1.4 to /root/nltk_data...\n"
          ]
        }
      ],
      "source": [
        "from nltk.stem import WordNetLemmatizer\n",
        "nltk.download('wordnet')\n",
        "nltk.download('omw-1.4')\n",
        "\n",
        "lemmatizer = WordNetLemmatizer()\n",
        "df['Lemmatized'] = df['Tokens'].apply(lambda tokens: [lemmatizer.lemmatize(word) for word in tokens])"
      ]
    },
    {
      "cell_type": "markdown",
      "metadata": {
        "id": "vpI-tnngPLJh"
      },
      "source": [
        "\n",
        "# **📌What is lemmatization?**\n",
        "\n",
        "\n",
        "Lemmatization is a text normalization technique used in natural language processing.\n",
        "\n",
        "It reduces a word to its base or dictionary form, known as the lemma.\n",
        "\n",
        "Unlike stemming, lemmatization ensures that the resulting word is linguistically valid.\n",
        "\n",
        "It takes into account the context and part of speech of the word.\n",
        "\n",
        "Lemmatization requires the use of a lexical database or dictionary.\n",
        "\n",
        "It helps in standardizing words for better text analysis.\n",
        "\n",
        "This process improves the accuracy of many NLP tasks.\n",
        "\n",
        "Lemmatization is slower than stemming due to its complexity.\n",
        "\n",
        "It is useful in applications like search engines, chatbots, and machine translation.\n",
        "\n",
        "\n",
        "\n"
      ]
    },
    {
      "cell_type": "markdown",
      "metadata": {
        "id": "YDN4CY2nM4dZ"
      },
      "source": [
        "# **📌 Sample Comparison**"
      ]
    },
    {
      "cell_type": "code",
      "execution_count": 15,
      "metadata": {
        "colab": {
          "base_uri": "https://localhost:8080/",
          "height": 112
        },
        "id": "aLJRQ4BTM_4Q",
        "outputId": "eab9e3bf-31bb-4c0e-ecef-4c88179eeece"
      },
      "outputs": [
        {
          "data": {
            "application/vnd.google.colaboratory.intrinsic+json": {
              "summary": "{\n  \"name\": \"df[['Tokens', 'Stemmed', 'Lemmatized']]\",\n  \"rows\": 2,\n  \"fields\": [\n    {\n      \"column\": \"Tokens\",\n      \"properties\": {\n        \"dtype\": \"object\",\n        \"semantic_type\": \"\",\n        \"description\": \"\"\n      }\n    },\n    {\n      \"column\": \"Stemmed\",\n      \"properties\": {\n        \"dtype\": \"object\",\n        \"semantic_type\": \"\",\n        \"description\": \"\"\n      }\n    },\n    {\n      \"column\": \"Lemmatized\",\n      \"properties\": {\n        \"dtype\": \"object\",\n        \"semantic_type\": \"\",\n        \"description\": \"\"\n      }\n    }\n  ]\n}",
              "type": "dataframe"
            },
            "text/html": [
              "\n",
              "  <div id=\"df-e94f79eb-ed36-41bd-abbd-6cc292f30924\" class=\"colab-df-container\">\n",
              "    <div>\n",
              "<style scoped>\n",
              "    .dataframe tbody tr th:only-of-type {\n",
              "        vertical-align: middle;\n",
              "    }\n",
              "\n",
              "    .dataframe tbody tr th {\n",
              "        vertical-align: top;\n",
              "    }\n",
              "\n",
              "    .dataframe thead th {\n",
              "        text-align: right;\n",
              "    }\n",
              "</style>\n",
              "<table border=\"1\" class=\"dataframe\">\n",
              "  <thead>\n",
              "    <tr style=\"text-align: right;\">\n",
              "      <th></th>\n",
              "      <th>Tokens</th>\n",
              "      <th>Stemmed</th>\n",
              "      <th>Lemmatized</th>\n",
              "    </tr>\n",
              "  </thead>\n",
              "  <tbody>\n",
              "    <tr>\n",
              "      <th>0</th>\n",
              "      <td>[I, love, programming, in, Python, .]</td>\n",
              "      <td>[i, love, program, in, python, .]</td>\n",
              "      <td>[I, love, programming, in, Python, .]</td>\n",
              "    </tr>\n",
              "    <tr>\n",
              "      <th>1</th>\n",
              "      <td>[Natural, Language, Processing, is, fascinatin...</td>\n",
              "      <td>[natur, languag, process, is, fascin, .]</td>\n",
              "      <td>[Natural, Language, Processing, is, fascinatin...</td>\n",
              "    </tr>\n",
              "  </tbody>\n",
              "</table>\n",
              "</div>\n",
              "    <div class=\"colab-df-buttons\">\n",
              "\n",
              "  <div class=\"colab-df-container\">\n",
              "    <button class=\"colab-df-convert\" onclick=\"convertToInteractive('df-e94f79eb-ed36-41bd-abbd-6cc292f30924')\"\n",
              "            title=\"Convert this dataframe to an interactive table.\"\n",
              "            style=\"display:none;\">\n",
              "\n",
              "  <svg xmlns=\"http://www.w3.org/2000/svg\" height=\"24px\" viewBox=\"0 -960 960 960\">\n",
              "    <path d=\"M120-120v-720h720v720H120Zm60-500h600v-160H180v160Zm220 220h160v-160H400v160Zm0 220h160v-160H400v160ZM180-400h160v-160H180v160Zm440 0h160v-160H620v160ZM180-180h160v-160H180v160Zm440 0h160v-160H620v160Z\"/>\n",
              "  </svg>\n",
              "    </button>\n",
              "\n",
              "  <style>\n",
              "    .colab-df-container {\n",
              "      display:flex;\n",
              "      gap: 12px;\n",
              "    }\n",
              "\n",
              "    .colab-df-convert {\n",
              "      background-color: #E8F0FE;\n",
              "      border: none;\n",
              "      border-radius: 50%;\n",
              "      cursor: pointer;\n",
              "      display: none;\n",
              "      fill: #1967D2;\n",
              "      height: 32px;\n",
              "      padding: 0 0 0 0;\n",
              "      width: 32px;\n",
              "    }\n",
              "\n",
              "    .colab-df-convert:hover {\n",
              "      background-color: #E2EBFA;\n",
              "      box-shadow: 0px 1px 2px rgba(60, 64, 67, 0.3), 0px 1px 3px 1px rgba(60, 64, 67, 0.15);\n",
              "      fill: #174EA6;\n",
              "    }\n",
              "\n",
              "    .colab-df-buttons div {\n",
              "      margin-bottom: 4px;\n",
              "    }\n",
              "\n",
              "    [theme=dark] .colab-df-convert {\n",
              "      background-color: #3B4455;\n",
              "      fill: #D2E3FC;\n",
              "    }\n",
              "\n",
              "    [theme=dark] .colab-df-convert:hover {\n",
              "      background-color: #434B5C;\n",
              "      box-shadow: 0px 1px 3px 1px rgba(0, 0, 0, 0.15);\n",
              "      filter: drop-shadow(0px 1px 2px rgba(0, 0, 0, 0.3));\n",
              "      fill: #FFFFFF;\n",
              "    }\n",
              "  </style>\n",
              "\n",
              "    <script>\n",
              "      const buttonEl =\n",
              "        document.querySelector('#df-e94f79eb-ed36-41bd-abbd-6cc292f30924 button.colab-df-convert');\n",
              "      buttonEl.style.display =\n",
              "        google.colab.kernel.accessAllowed ? 'block' : 'none';\n",
              "\n",
              "      async function convertToInteractive(key) {\n",
              "        const element = document.querySelector('#df-e94f79eb-ed36-41bd-abbd-6cc292f30924');\n",
              "        const dataTable =\n",
              "          await google.colab.kernel.invokeFunction('convertToInteractive',\n",
              "                                                    [key], {});\n",
              "        if (!dataTable) return;\n",
              "\n",
              "        const docLinkHtml = 'Like what you see? Visit the ' +\n",
              "          '<a target=\"_blank\" href=https://colab.research.google.com/notebooks/data_table.ipynb>data table notebook</a>'\n",
              "          + ' to learn more about interactive tables.';\n",
              "        element.innerHTML = '';\n",
              "        dataTable['output_type'] = 'display_data';\n",
              "        await google.colab.output.renderOutput(dataTable, element);\n",
              "        const docLink = document.createElement('div');\n",
              "        docLink.innerHTML = docLinkHtml;\n",
              "        element.appendChild(docLink);\n",
              "      }\n",
              "    </script>\n",
              "  </div>\n",
              "\n",
              "\n",
              "    <div id=\"df-2f5b7979-9455-4f9e-85c8-34180d7c8801\">\n",
              "      <button class=\"colab-df-quickchart\" onclick=\"quickchart('df-2f5b7979-9455-4f9e-85c8-34180d7c8801')\"\n",
              "                title=\"Suggest charts\"\n",
              "                style=\"display:none;\">\n",
              "\n",
              "<svg xmlns=\"http://www.w3.org/2000/svg\" height=\"24px\"viewBox=\"0 0 24 24\"\n",
              "     width=\"24px\">\n",
              "    <g>\n",
              "        <path d=\"M19 3H5c-1.1 0-2 .9-2 2v14c0 1.1.9 2 2 2h14c1.1 0 2-.9 2-2V5c0-1.1-.9-2-2-2zM9 17H7v-7h2v7zm4 0h-2V7h2v10zm4 0h-2v-4h2v4z\"/>\n",
              "    </g>\n",
              "</svg>\n",
              "      </button>\n",
              "\n",
              "<style>\n",
              "  .colab-df-quickchart {\n",
              "      --bg-color: #E8F0FE;\n",
              "      --fill-color: #1967D2;\n",
              "      --hover-bg-color: #E2EBFA;\n",
              "      --hover-fill-color: #174EA6;\n",
              "      --disabled-fill-color: #AAA;\n",
              "      --disabled-bg-color: #DDD;\n",
              "  }\n",
              "\n",
              "  [theme=dark] .colab-df-quickchart {\n",
              "      --bg-color: #3B4455;\n",
              "      --fill-color: #D2E3FC;\n",
              "      --hover-bg-color: #434B5C;\n",
              "      --hover-fill-color: #FFFFFF;\n",
              "      --disabled-bg-color: #3B4455;\n",
              "      --disabled-fill-color: #666;\n",
              "  }\n",
              "\n",
              "  .colab-df-quickchart {\n",
              "    background-color: var(--bg-color);\n",
              "    border: none;\n",
              "    border-radius: 50%;\n",
              "    cursor: pointer;\n",
              "    display: none;\n",
              "    fill: var(--fill-color);\n",
              "    height: 32px;\n",
              "    padding: 0;\n",
              "    width: 32px;\n",
              "  }\n",
              "\n",
              "  .colab-df-quickchart:hover {\n",
              "    background-color: var(--hover-bg-color);\n",
              "    box-shadow: 0 1px 2px rgba(60, 64, 67, 0.3), 0 1px 3px 1px rgba(60, 64, 67, 0.15);\n",
              "    fill: var(--button-hover-fill-color);\n",
              "  }\n",
              "\n",
              "  .colab-df-quickchart-complete:disabled,\n",
              "  .colab-df-quickchart-complete:disabled:hover {\n",
              "    background-color: var(--disabled-bg-color);\n",
              "    fill: var(--disabled-fill-color);\n",
              "    box-shadow: none;\n",
              "  }\n",
              "\n",
              "  .colab-df-spinner {\n",
              "    border: 2px solid var(--fill-color);\n",
              "    border-color: transparent;\n",
              "    border-bottom-color: var(--fill-color);\n",
              "    animation:\n",
              "      spin 1s steps(1) infinite;\n",
              "  }\n",
              "\n",
              "  @keyframes spin {\n",
              "    0% {\n",
              "      border-color: transparent;\n",
              "      border-bottom-color: var(--fill-color);\n",
              "      border-left-color: var(--fill-color);\n",
              "    }\n",
              "    20% {\n",
              "      border-color: transparent;\n",
              "      border-left-color: var(--fill-color);\n",
              "      border-top-color: var(--fill-color);\n",
              "    }\n",
              "    30% {\n",
              "      border-color: transparent;\n",
              "      border-left-color: var(--fill-color);\n",
              "      border-top-color: var(--fill-color);\n",
              "      border-right-color: var(--fill-color);\n",
              "    }\n",
              "    40% {\n",
              "      border-color: transparent;\n",
              "      border-right-color: var(--fill-color);\n",
              "      border-top-color: var(--fill-color);\n",
              "    }\n",
              "    60% {\n",
              "      border-color: transparent;\n",
              "      border-right-color: var(--fill-color);\n",
              "    }\n",
              "    80% {\n",
              "      border-color: transparent;\n",
              "      border-right-color: var(--fill-color);\n",
              "      border-bottom-color: var(--fill-color);\n",
              "    }\n",
              "    90% {\n",
              "      border-color: transparent;\n",
              "      border-bottom-color: var(--fill-color);\n",
              "    }\n",
              "  }\n",
              "</style>\n",
              "\n",
              "      <script>\n",
              "        async function quickchart(key) {\n",
              "          const quickchartButtonEl =\n",
              "            document.querySelector('#' + key + ' button');\n",
              "          quickchartButtonEl.disabled = true;  // To prevent multiple clicks.\n",
              "          quickchartButtonEl.classList.add('colab-df-spinner');\n",
              "          try {\n",
              "            const charts = await google.colab.kernel.invokeFunction(\n",
              "                'suggestCharts', [key], {});\n",
              "          } catch (error) {\n",
              "            console.error('Error during call to suggestCharts:', error);\n",
              "          }\n",
              "          quickchartButtonEl.classList.remove('colab-df-spinner');\n",
              "          quickchartButtonEl.classList.add('colab-df-quickchart-complete');\n",
              "        }\n",
              "        (() => {\n",
              "          let quickchartButtonEl =\n",
              "            document.querySelector('#df-2f5b7979-9455-4f9e-85c8-34180d7c8801 button');\n",
              "          quickchartButtonEl.style.display =\n",
              "            google.colab.kernel.accessAllowed ? 'block' : 'none';\n",
              "        })();\n",
              "      </script>\n",
              "    </div>\n",
              "\n",
              "    </div>\n",
              "  </div>\n"
            ],
            "text/plain": [
              "                                              Tokens  \\\n",
              "0              [I, love, programming, in, Python, .]   \n",
              "1  [Natural, Language, Processing, is, fascinatin...   \n",
              "\n",
              "                                    Stemmed  \\\n",
              "0         [i, love, program, in, python, .]   \n",
              "1  [natur, languag, process, is, fascin, .]   \n",
              "\n",
              "                                          Lemmatized  \n",
              "0              [I, love, programming, in, Python, .]  \n",
              "1  [Natural, Language, Processing, is, fascinatin...  "
            ]
          },
          "execution_count": 15,
          "metadata": {},
          "output_type": "execute_result"
        }
      ],
      "source": [
        "# Compare stemming vs lemmatization on 2 sample sentences\n",
        "df[['Tokens', 'Stemmed', 'Lemmatized']].head(2)"
      ]
    },
    {
      "cell_type": "markdown",
      "metadata": {
        "id": "CX7cPONXNYfd"
      },
      "source": [
        "# **STEP_3 Stopwords Removal**\n"
      ]
    },
    {
      "cell_type": "code",
      "execution_count": 17,
      "metadata": {
        "colab": {
          "base_uri": "https://localhost:8080/",
          "height": 241
        },
        "id": "kjUiwpC2Niud",
        "outputId": "75c4e0f6-5729-4542-98be-7cf79370d034"
      },
      "outputs": [
        {
          "name": "stderr",
          "output_type": "stream",
          "text": [
            "[nltk_data] Downloading package stopwords to /root/nltk_data...\n",
            "[nltk_data]   Package stopwords is already up-to-date!\n"
          ]
        },
        {
          "data": {
            "application/vnd.google.colaboratory.intrinsic+json": {
              "summary": "{\n  \"name\": \"df[['Sentence', 'No_Stopwords']]\",\n  \"rows\": 5,\n  \"fields\": [\n    {\n      \"column\": \"Sentence\",\n      \"properties\": {\n        \"dtype\": \"string\",\n        \"num_unique_values\": 5,\n        \"samples\": [\n          \"Natural Language Processing is fascinating.\",\n          \"Data preprocessing is a crucial step in NLP.\",\n          \"Spacy and NLTK are popular NLP libraries.\"\n        ],\n        \"semantic_type\": \"\",\n        \"description\": \"\"\n      }\n    },\n    {\n      \"column\": \"No_Stopwords\",\n      \"properties\": {\n        \"dtype\": \"object\",\n        \"semantic_type\": \"\",\n        \"description\": \"\"\n      }\n    }\n  ]\n}",
              "type": "dataframe"
            },
            "text/html": [
              "\n",
              "  <div id=\"df-748344f3-73b8-45cd-9258-71d2082fbe2d\" class=\"colab-df-container\">\n",
              "    <div>\n",
              "<style scoped>\n",
              "    .dataframe tbody tr th:only-of-type {\n",
              "        vertical-align: middle;\n",
              "    }\n",
              "\n",
              "    .dataframe tbody tr th {\n",
              "        vertical-align: top;\n",
              "    }\n",
              "\n",
              "    .dataframe thead th {\n",
              "        text-align: right;\n",
              "    }\n",
              "</style>\n",
              "<table border=\"1\" class=\"dataframe\">\n",
              "  <thead>\n",
              "    <tr style=\"text-align: right;\">\n",
              "      <th></th>\n",
              "      <th>Sentence</th>\n",
              "      <th>No_Stopwords</th>\n",
              "    </tr>\n",
              "  </thead>\n",
              "  <tbody>\n",
              "    <tr>\n",
              "      <th>0</th>\n",
              "      <td>I love programming in Python.</td>\n",
              "      <td>[love, programming, Python, .]</td>\n",
              "    </tr>\n",
              "    <tr>\n",
              "      <th>1</th>\n",
              "      <td>Natural Language Processing is fascinating.</td>\n",
              "      <td>[Natural, Language, Processing, fascinating, .]</td>\n",
              "    </tr>\n",
              "    <tr>\n",
              "      <th>2</th>\n",
              "      <td>Spacy and NLTK are popular NLP libraries.</td>\n",
              "      <td>[Spacy, NLTK, popular, NLP, libraries, .]</td>\n",
              "    </tr>\n",
              "    <tr>\n",
              "      <th>3</th>\n",
              "      <td>Machine learning enables predictive analysis.</td>\n",
              "      <td>[Machine, learning, enables, predictive, analy...</td>\n",
              "    </tr>\n",
              "    <tr>\n",
              "      <th>4</th>\n",
              "      <td>Data preprocessing is a crucial step in NLP.</td>\n",
              "      <td>[Data, preprocessing, crucial, step, NLP, .]</td>\n",
              "    </tr>\n",
              "  </tbody>\n",
              "</table>\n",
              "</div>\n",
              "    <div class=\"colab-df-buttons\">\n",
              "\n",
              "  <div class=\"colab-df-container\">\n",
              "    <button class=\"colab-df-convert\" onclick=\"convertToInteractive('df-748344f3-73b8-45cd-9258-71d2082fbe2d')\"\n",
              "            title=\"Convert this dataframe to an interactive table.\"\n",
              "            style=\"display:none;\">\n",
              "\n",
              "  <svg xmlns=\"http://www.w3.org/2000/svg\" height=\"24px\" viewBox=\"0 -960 960 960\">\n",
              "    <path d=\"M120-120v-720h720v720H120Zm60-500h600v-160H180v160Zm220 220h160v-160H400v160Zm0 220h160v-160H400v160ZM180-400h160v-160H180v160Zm440 0h160v-160H620v160ZM180-180h160v-160H180v160Zm440 0h160v-160H620v160Z\"/>\n",
              "  </svg>\n",
              "    </button>\n",
              "\n",
              "  <style>\n",
              "    .colab-df-container {\n",
              "      display:flex;\n",
              "      gap: 12px;\n",
              "    }\n",
              "\n",
              "    .colab-df-convert {\n",
              "      background-color: #E8F0FE;\n",
              "      border: none;\n",
              "      border-radius: 50%;\n",
              "      cursor: pointer;\n",
              "      display: none;\n",
              "      fill: #1967D2;\n",
              "      height: 32px;\n",
              "      padding: 0 0 0 0;\n",
              "      width: 32px;\n",
              "    }\n",
              "\n",
              "    .colab-df-convert:hover {\n",
              "      background-color: #E2EBFA;\n",
              "      box-shadow: 0px 1px 2px rgba(60, 64, 67, 0.3), 0px 1px 3px 1px rgba(60, 64, 67, 0.15);\n",
              "      fill: #174EA6;\n",
              "    }\n",
              "\n",
              "    .colab-df-buttons div {\n",
              "      margin-bottom: 4px;\n",
              "    }\n",
              "\n",
              "    [theme=dark] .colab-df-convert {\n",
              "      background-color: #3B4455;\n",
              "      fill: #D2E3FC;\n",
              "    }\n",
              "\n",
              "    [theme=dark] .colab-df-convert:hover {\n",
              "      background-color: #434B5C;\n",
              "      box-shadow: 0px 1px 3px 1px rgba(0, 0, 0, 0.15);\n",
              "      filter: drop-shadow(0px 1px 2px rgba(0, 0, 0, 0.3));\n",
              "      fill: #FFFFFF;\n",
              "    }\n",
              "  </style>\n",
              "\n",
              "    <script>\n",
              "      const buttonEl =\n",
              "        document.querySelector('#df-748344f3-73b8-45cd-9258-71d2082fbe2d button.colab-df-convert');\n",
              "      buttonEl.style.display =\n",
              "        google.colab.kernel.accessAllowed ? 'block' : 'none';\n",
              "\n",
              "      async function convertToInteractive(key) {\n",
              "        const element = document.querySelector('#df-748344f3-73b8-45cd-9258-71d2082fbe2d');\n",
              "        const dataTable =\n",
              "          await google.colab.kernel.invokeFunction('convertToInteractive',\n",
              "                                                    [key], {});\n",
              "        if (!dataTable) return;\n",
              "\n",
              "        const docLinkHtml = 'Like what you see? Visit the ' +\n",
              "          '<a target=\"_blank\" href=https://colab.research.google.com/notebooks/data_table.ipynb>data table notebook</a>'\n",
              "          + ' to learn more about interactive tables.';\n",
              "        element.innerHTML = '';\n",
              "        dataTable['output_type'] = 'display_data';\n",
              "        await google.colab.output.renderOutput(dataTable, element);\n",
              "        const docLink = document.createElement('div');\n",
              "        docLink.innerHTML = docLinkHtml;\n",
              "        element.appendChild(docLink);\n",
              "      }\n",
              "    </script>\n",
              "  </div>\n",
              "\n",
              "\n",
              "    <div id=\"df-0f2d06c9-0002-47fa-9a24-b220a27a5261\">\n",
              "      <button class=\"colab-df-quickchart\" onclick=\"quickchart('df-0f2d06c9-0002-47fa-9a24-b220a27a5261')\"\n",
              "                title=\"Suggest charts\"\n",
              "                style=\"display:none;\">\n",
              "\n",
              "<svg xmlns=\"http://www.w3.org/2000/svg\" height=\"24px\"viewBox=\"0 0 24 24\"\n",
              "     width=\"24px\">\n",
              "    <g>\n",
              "        <path d=\"M19 3H5c-1.1 0-2 .9-2 2v14c0 1.1.9 2 2 2h14c1.1 0 2-.9 2-2V5c0-1.1-.9-2-2-2zM9 17H7v-7h2v7zm4 0h-2V7h2v10zm4 0h-2v-4h2v4z\"/>\n",
              "    </g>\n",
              "</svg>\n",
              "      </button>\n",
              "\n",
              "<style>\n",
              "  .colab-df-quickchart {\n",
              "      --bg-color: #E8F0FE;\n",
              "      --fill-color: #1967D2;\n",
              "      --hover-bg-color: #E2EBFA;\n",
              "      --hover-fill-color: #174EA6;\n",
              "      --disabled-fill-color: #AAA;\n",
              "      --disabled-bg-color: #DDD;\n",
              "  }\n",
              "\n",
              "  [theme=dark] .colab-df-quickchart {\n",
              "      --bg-color: #3B4455;\n",
              "      --fill-color: #D2E3FC;\n",
              "      --hover-bg-color: #434B5C;\n",
              "      --hover-fill-color: #FFFFFF;\n",
              "      --disabled-bg-color: #3B4455;\n",
              "      --disabled-fill-color: #666;\n",
              "  }\n",
              "\n",
              "  .colab-df-quickchart {\n",
              "    background-color: var(--bg-color);\n",
              "    border: none;\n",
              "    border-radius: 50%;\n",
              "    cursor: pointer;\n",
              "    display: none;\n",
              "    fill: var(--fill-color);\n",
              "    height: 32px;\n",
              "    padding: 0;\n",
              "    width: 32px;\n",
              "  }\n",
              "\n",
              "  .colab-df-quickchart:hover {\n",
              "    background-color: var(--hover-bg-color);\n",
              "    box-shadow: 0 1px 2px rgba(60, 64, 67, 0.3), 0 1px 3px 1px rgba(60, 64, 67, 0.15);\n",
              "    fill: var(--button-hover-fill-color);\n",
              "  }\n",
              "\n",
              "  .colab-df-quickchart-complete:disabled,\n",
              "  .colab-df-quickchart-complete:disabled:hover {\n",
              "    background-color: var(--disabled-bg-color);\n",
              "    fill: var(--disabled-fill-color);\n",
              "    box-shadow: none;\n",
              "  }\n",
              "\n",
              "  .colab-df-spinner {\n",
              "    border: 2px solid var(--fill-color);\n",
              "    border-color: transparent;\n",
              "    border-bottom-color: var(--fill-color);\n",
              "    animation:\n",
              "      spin 1s steps(1) infinite;\n",
              "  }\n",
              "\n",
              "  @keyframes spin {\n",
              "    0% {\n",
              "      border-color: transparent;\n",
              "      border-bottom-color: var(--fill-color);\n",
              "      border-left-color: var(--fill-color);\n",
              "    }\n",
              "    20% {\n",
              "      border-color: transparent;\n",
              "      border-left-color: var(--fill-color);\n",
              "      border-top-color: var(--fill-color);\n",
              "    }\n",
              "    30% {\n",
              "      border-color: transparent;\n",
              "      border-left-color: var(--fill-color);\n",
              "      border-top-color: var(--fill-color);\n",
              "      border-right-color: var(--fill-color);\n",
              "    }\n",
              "    40% {\n",
              "      border-color: transparent;\n",
              "      border-right-color: var(--fill-color);\n",
              "      border-top-color: var(--fill-color);\n",
              "    }\n",
              "    60% {\n",
              "      border-color: transparent;\n",
              "      border-right-color: var(--fill-color);\n",
              "    }\n",
              "    80% {\n",
              "      border-color: transparent;\n",
              "      border-right-color: var(--fill-color);\n",
              "      border-bottom-color: var(--fill-color);\n",
              "    }\n",
              "    90% {\n",
              "      border-color: transparent;\n",
              "      border-bottom-color: var(--fill-color);\n",
              "    }\n",
              "  }\n",
              "</style>\n",
              "\n",
              "      <script>\n",
              "        async function quickchart(key) {\n",
              "          const quickchartButtonEl =\n",
              "            document.querySelector('#' + key + ' button');\n",
              "          quickchartButtonEl.disabled = true;  // To prevent multiple clicks.\n",
              "          quickchartButtonEl.classList.add('colab-df-spinner');\n",
              "          try {\n",
              "            const charts = await google.colab.kernel.invokeFunction(\n",
              "                'suggestCharts', [key], {});\n",
              "          } catch (error) {\n",
              "            console.error('Error during call to suggestCharts:', error);\n",
              "          }\n",
              "          quickchartButtonEl.classList.remove('colab-df-spinner');\n",
              "          quickchartButtonEl.classList.add('colab-df-quickchart-complete');\n",
              "        }\n",
              "        (() => {\n",
              "          let quickchartButtonEl =\n",
              "            document.querySelector('#df-0f2d06c9-0002-47fa-9a24-b220a27a5261 button');\n",
              "          quickchartButtonEl.style.display =\n",
              "            google.colab.kernel.accessAllowed ? 'block' : 'none';\n",
              "        })();\n",
              "      </script>\n",
              "    </div>\n",
              "\n",
              "    </div>\n",
              "  </div>\n"
            ],
            "text/plain": [
              "                                        Sentence  \\\n",
              "0                  I love programming in Python.   \n",
              "1    Natural Language Processing is fascinating.   \n",
              "2      Spacy and NLTK are popular NLP libraries.   \n",
              "3  Machine learning enables predictive analysis.   \n",
              "4   Data preprocessing is a crucial step in NLP.   \n",
              "\n",
              "                                        No_Stopwords  \n",
              "0                     [love, programming, Python, .]  \n",
              "1    [Natural, Language, Processing, fascinating, .]  \n",
              "2          [Spacy, NLTK, popular, NLP, libraries, .]  \n",
              "3  [Machine, learning, enables, predictive, analy...  \n",
              "4       [Data, preprocessing, crucial, step, NLP, .]  "
            ]
          },
          "execution_count": 17,
          "metadata": {},
          "output_type": "execute_result"
        }
      ],
      "source": [
        "from nltk.corpus import stopwords\n",
        "import nltk # Import nltk explicitly\n",
        "nltk.download('stopwords')\n",
        "\n",
        "stop_words = set(stopwords.words('english'))\n",
        "\n",
        "# Remove stopwords\n",
        "df['No_Stopwords'] = df['Tokens'].apply(lambda tokens: [word for word in tokens if word.lower() not in stop_words])\n",
        "\n",
        "# Display the DataFrame with the correct column name 'Sentence'\n",
        "df[['Sentence', 'No_Stopwords']].head()"
      ]
    },
    {
      "cell_type": "markdown",
      "metadata": {
        "id": "q4Ik9mc3Q0tP"
      },
      "source": [
        "# **📌 what are stopwards?**\n",
        "\n",
        "\n",
        "\n",
        "\n",
        "\n",
        "Stopwords are commonly used words in a language that are often removed during natural language processing (NLP) tasks because they carry little or no meaningful content. Words like \"the,\" \"is,\" \"in,\" \"and,\" and \"of\" are considered stopwords in English. These words appear frequently in text but do not contribute significantly to the overall meaning, especially in tasks like text classification, search engines, or topic modeling. By removing stopwords, NLP systems can focus on more important words that carry substantial information. However, the use and removal of stopwords depend on the context of the application. In some cases, such as sentiment analysis or language translation, stopwords may still be important for understanding meaning or tone. Many NLP libraries, like NLTK and spaCy, provide predefined lists of stopwords, but custom lists can also be created depending on the specific needs of a project. Removing stopwords is usually a standard step in the text preprocessing pipeline to simplify and speed up analysis.\n",
        "\n",
        "2. When should we keep or remove them?\n",
        "\n",
        "\n",
        "The decision to keep or remove stopwords in a natural language processing task depends on the specific goal and context of the project. In many cases, stopwords are removed to reduce noise and improve performance, especially in tasks like text classification, topic modeling, and information retrieval. These common words—such as \"the,\" \"is,\" \"and,\" or \"of\"—appear frequently in language but usually do not contribute significant meaning when identifying the main themes or topics of a document. Removing them helps simplify the data and focus on more meaningful content words.\n",
        "\n",
        "However, there are situations where keeping stopwords is essential. In sentiment analysis, for example, words like \"not\" or \"was\" can greatly influence the sentiment of a sentence, and removing them could lead to incorrect interpretations. Similarly, in machine translation or chatbot applications, stopwords are important for maintaining correct grammar and conveying precise meanings. Tasks that rely on syntactic or grammatical structure, such as part-of-speech tagging or dependency parsing, also require stopwords to be preserved. Ultimately, whether to keep or remove stopwords should be based on the specific requirements of the task, and it’s often beneficial to test both approaches to determine which yields better results.\n",
        "\n",
        "\n",
        "\n",
        "\n",
        "\n",
        "\n",
        "\n"
      ]
    },
    {
      "cell_type": "markdown",
      "metadata": {
        "id": "I2sBkA-USgou"
      },
      "source": [
        "# **STEP_4(Part of Speech (POS) Tagging)**\n",
        "\n",
        "\n",
        "\n"
      ]
    },
    {
      "cell_type": "code",
      "execution_count": 30,
      "metadata": {
        "colab": {
          "base_uri": "https://localhost:8080/"
        },
        "id": "t5uOIvxeUTnU",
        "outputId": "46197f96-ca20-4625-baf0-ca7d927696c0"
      },
      "outputs": [
        {
          "name": "stderr",
          "output_type": "stream",
          "text": [
            "[nltk_data] Downloading package averaged_perceptron_tagger to\n",
            "[nltk_data]     /root/nltk_data...\n",
            "[nltk_data]   Package averaged_perceptron_tagger is already up-to-\n",
            "[nltk_data]       date!\n",
            "[nltk_data] Downloading package averaged_perceptron_tagger_eng to\n",
            "[nltk_data]     /root/nltk_data...\n",
            "[nltk_data]   Unzipping taggers/averaged_perceptron_tagger_eng.zip.\n"
          ]
        },
        {
          "name": "stdout",
          "output_type": "stream",
          "text": [
            "                                              Tokens  \\\n",
            "0              [I, love, programming, in, Python, .]   \n",
            "1  [Natural, Language, Processing, is, fascinatin...   \n",
            "2  [Spacy, and, NLTK, are, popular, NLP, librarie...   \n",
            "3  [Machine, learning, enables, predictive, analy...   \n",
            "4  [Data, preprocessing, is, a, crucial, step, in...   \n",
            "\n",
            "                                            POS_Tags  \\\n",
            "0  [(I, PRP), (love, VBP), (programming, VBG), (i...   \n",
            "1  [(Natural, JJ), (Language, NNP), (Processing, ...   \n",
            "2  [(Spacy, NN), (and, CC), (NLTK, NNP), (are, VB...   \n",
            "3  [(Machine, NN), (learning, VBG), (enables, NNS...   \n",
            "4  [(Data, NNP), (preprocessing, NN), (is, VBZ), ...   \n",
            "\n",
            "                              Nouns                Verbs    Adjectives Adverbs  \n",
            "0                          [Python]  [love, programming]            []      []  \n",
            "1            [Language, Processing]    [is, fascinating]     [Natural]      []  \n",
            "2     [Spacy, NLTK, NLP, libraries]                [are]     [popular]      []  \n",
            "3      [Machine, enables, analysis]           [learning]  [predictive]      []  \n",
            "4  [Data, preprocessing, step, NLP]                 [is]     [crucial]      []  \n"
          ]
        }
      ],
      "source": [
        "import nltk\n",
        "import pandas as pd\n",
        "\n",
        "# Download required NLTK resources, including the specific English tagger\n",
        "try:\n",
        "    nltk.download('averaged_perceptron_tagger')\n",
        "    # Download the specific English averaged perceptron tagger\n",
        "    nltk.download('averaged_perceptron_tagger_eng')\n",
        "except Exception as e:\n",
        "    print(f\"Error downloading NLTK resource: {e}\")\n",
        "\n",
        "# Assuming df is already created with a 'Tokens' column from the previous step\n",
        "# POS tagging\n",
        "df['POS_Tags'] = df['Tokens'].apply(nltk.pos_tag)\n",
        "\n",
        "# Extract tags\n",
        "df['Nouns'] = df['POS_Tags'].apply(lambda tags: [word for word, pos in tags if pos.startswith('NN')])\n",
        "df['Verbs'] = df['POS_Tags'].apply(lambda tags: [word for word, pos in tags if pos.startswith('VB')])\n",
        "df['Adjectives'] = df['POS_Tags'].apply(lambda tags: [word for word, pos in tags if pos.startswith('JJ')])\n",
        "df['Adverbs'] = df['POS_Tags'].apply(lambda tags: [word for word, pos in tags if pos.startswith('RB')])\n",
        "\n",
        "# Display the updated DataFrame\n",
        "print(df[['Tokens', 'POS_Tags', 'Nouns', 'Verbs', 'Adjectives', 'Adverbs']])"
      ]
    },
    {
      "cell_type": "markdown",
      "metadata": {
        "id": "G_ZqphyBUd3G"
      },
      "source": [
        "# 📌 WHAT IS  Part of Speech (POS) Tagging?\n"
      ]
    },
    {
      "cell_type": "markdown",
      "metadata": {
        "id": "fDKkVz55VOd-"
      },
      "source": [
        "Part of Speech (POS) tagging is a fundamental task in Natural Language Processing (NLP) that involves assigning a grammatical category (or \"tag\") to each word in a sentence based on its role and context. These tags represent the word’s part of speech, such as noun, verb, adjective, adverb, pronoun, preposition, conjunction, or interjection. For example, in the sentence \"I love coding,\" POS tagging would label \"I\" as a pronoun (PRP), \"love\" as a verb (VBP), and \"coding\" as a noun (NN).POS tagging is crucial because it helps machines understand the syntactic structure of a sentence, which is essential for tasks like text analysis, machine translation, sentiment analysis, and information extraction. For instance, knowing whether \"book\" is a noun (\"I read a book\") or a verb (\"I book a flight\") changes the sentence's meaning.The process typically involves tokenizing the text into words and then applying a tagging algorithm. Tools like NLTK, spaCy, or Stanford NLP use pre-trained models to perform POS tagging. These models are trained on large annotated corpora, such as the Penn Treebank, which provide standardized tag sets (e.g., NN for nouns, VB for verbs).There are different approaches to POS tagging:\n",
        "\n",
        "Rule-Based: Uses predefined grammatical rules to assign tags. For example, a word following \"the\" is often a noun.Statistical: Relies on probabilistic models like Hidden Markov Models (HMMs) to predict tags based on word sequences and their likelihood.Neural/Deep Learning: Uses models like transformers (e.g., BERT) to capture contextual relationships, improving accuracy for ambiguous words.POS tagging can handle challenges like homonyms (words with multiple meanings) by considering the surrounding context. For example, in \"I can can a can,\" the first \"can\" is a modal verb (MD), the second is a verb (VB), and the third is a noun (NN).Accuracy in POS tagging depends on the language and domain, as some languages have complex grammar, and slang or technical terms can confuse models. Modern taggers achieve over 97% accuracy on standard English datasets but may struggle with informal or low-resource languages."
      ]
    },
    {
      "cell_type": "markdown",
      "metadata": {
        "id": "dcrTvqiTVeXF"
      },
      "source": [
        "# **Step 5: Named Entity Recognition (NER)**"
      ]
    },
    {
      "cell_type": "code",
      "execution_count": 32,
      "metadata": {
        "colab": {
          "base_uri": "https://localhost:8080/"
        },
        "id": "_PpW4Ne6VsNP",
        "outputId": "2c3e350e-c46c-43f8-b205-43931186ed8c"
      },
      "outputs": [
        {
          "name": "stderr",
          "output_type": "stream",
          "text": [
            "[nltk_data] Downloading package maxent_ne_chunker to\n",
            "[nltk_data]     /root/nltk_data...\n",
            "[nltk_data]   Package maxent_ne_chunker is already up-to-date!\n",
            "[nltk_data] Downloading package words to /root/nltk_data...\n",
            "[nltk_data]   Package words is already up-to-date!\n",
            "[nltk_data] Downloading package maxent_ne_chunker_tab to\n",
            "[nltk_data]     /root/nltk_data...\n",
            "[nltk_data]   Unzipping chunkers/maxent_ne_chunker_tab.zip.\n"
          ]
        },
        {
          "name": "stdout",
          "output_type": "stream",
          "text": [
            "                                        Sentence  \\\n",
            "0                  I love programming in Python.   \n",
            "1    Natural Language Processing is fascinating.   \n",
            "2      Spacy and NLTK are popular NLP libraries.   \n",
            "3  Machine learning enables predictive analysis.   \n",
            "4   Data preprocessing is a crucial step in NLP.   \n",
            "\n",
            "                                                 NER  \n",
            "0  [(I, PRP), (love, VBP), (programming, VBG), (i...  \n",
            "1  [(Natural, JJ), (Language, NNP), (Processing, ...  \n",
            "2  [[(Spacy, NN)], (and, CC), [(NLTK, NNP)], (are...  \n",
            "3  [[(Machine, NN)], (learning, VBG), (enables, N...  \n",
            "4  [[(Data, NNP)], (preprocessing, NN), (is, VBZ)...  \n"
          ]
        }
      ],
      "source": [
        "nltk.download('maxent_ne_chunker')\n",
        "nltk.download('words')\n",
        "# Download the missing resource\n",
        "nltk.download('maxent_ne_chunker_tab')\n",
        "\n",
        "from nltk import ne_chunk\n",
        "\n",
        "# Perform NER\n",
        "df['NER'] = df['POS_Tags'].apply(ne_chunk)\n",
        "# Corrected column name from 'Sentences' to 'Sentence'\n",
        "print(df[['Sentence', 'NER']].head())"
      ]
    },
    {
      "cell_type": "markdown",
      "metadata": {
        "id": "l9UINaCGWML8"
      },
      "source": [
        "# **📌WHAT IS Named Entity Recognition (NER)**\n"
      ]
    },
    {
      "cell_type": "markdown",
      "metadata": {
        "id": "6SbeBLM1WZPb"
      },
      "source": [
        "Named Entity Recognition (NER) is a key NLP task that identifies and classifies named entities in text into predefined categories like person names, organizations, locations, dates, and more. For example, in the sentence \"Elon Musk founded SpaceX in California on March 14, 2002,\" NER would tag \"Elon Musk\" as a person, \"SpaceX\" as an organization, \"California\" as a location, and \"March 14, 2002\" as a date. This process helps machines understand structured information within unstructured text, making it vital for applications like information retrieval, question answering, and knowledge graph construction. NER typically follows tokenization and POS tagging, as understanding a word’s role aids in entity identification. There are several approaches to NER: rule-based methods use handcrafted patterns (e.g., regular expressions) to detect entities, while statistical methods like Conditional Random Fields (CRFs) leverage annotated data to predict entity boundaries and types. Modern NER often employs deep learning models, such as BiLSTM-CRF or transformers like BERT, which excel at capturing contextual nuances, especially for ambiguous entities (e.g., \"Jordan\" as a person or location). Tools like spaCy, NLTK, and Stanford NLP provide pre-trained NER models, supporting multiple languages, though performance varies with language complexity and domain-specific terms. For instance, spaCy can be used in Python with a simple command: nlp = spacy.load(\"en_core_web_sm\"); doc = nlp(\"Apple is in California\"); which identifies \"Apple\" as an organization and \"California\" as a location. NER faces challenges like entity ambiguity, nested entities (e.g., \"University of California\" as one entity), and out-of-vocabulary terms in specialized domains like medicine or law. Fine-tuning models on domain-specific data can improve accuracy, but it requires annotated corpora, which can be scarce for low-resource languages. On standard English datasets like CoNLL-2003, state-of-the-art NER systems achieve F1 scores above 90%, but real-world noisy text, such as social media, often lowers performance. NER is a building block for advanced NLP tasks, enabling structured data extraction and enhancing text understanding for applications like chatbots, search engines, and automated content analysis."
      ]
    },
    {
      "cell_type": "markdown",
      "metadata": {
        "id": "-Sl_8RR4W24W"
      },
      "source": [
        "# **STEP_6 ONE HOT ENCODING**"
      ]
    },
    {
      "cell_type": "code",
      "execution_count": 36,
      "metadata": {
        "colab": {
          "base_uri": "https://localhost:8080/"
        },
        "id": "FUWfXMaIYLtM",
        "outputId": "8e7fe081-6e04-4053-d2c8-5d44859f8b26"
      },
      "outputs": [
        {
          "name": "stdout",
          "output_type": "stream",
          "text": [
            "Shape of count matrix: (5, 25)\n",
            "   analysis  and  are  crucial  data  enables  fascinating  in  is  language  \\\n",
            "0         0    0    0        0     0        0            0   1   0         0   \n",
            "1         0    0    0        0     0        0            1   0   1         1   \n",
            "2         0    1    1        0     0        0            0   0   0         0   \n",
            "3         1    0    0        0     0        1            0   0   0         0   \n",
            "4         0    0    0        1     1        0            0   1   1         0   \n",
            "\n",
            "   ...  nlp  nltk  popular  predictive  preprocessing  processing  \\\n",
            "0  ...    0     0        0           0              0           0   \n",
            "1  ...    0     0        0           0              0           1   \n",
            "2  ...    1     1        1           0              0           0   \n",
            "3  ...    0     0        0           1              0           0   \n",
            "4  ...    1     0        0           0              1           0   \n",
            "\n",
            "   programming  python  spacy  step  \n",
            "0            1       1      0     0  \n",
            "1            0       0      0     0  \n",
            "2            0       0      1     0  \n",
            "3            0       0      0     0  \n",
            "4            0       0      0     1  \n",
            "\n",
            "[5 rows x 25 columns]\n"
          ]
        }
      ],
      "source": [
        "import pandas as pd\n",
        "from sklearn.feature_extraction.text import CountVectorizer # Import CountVectorizer\n",
        "\n",
        "# Assuming df is your DataFrame with tokenized sentences\n",
        "# Example: df['Tokens'] = [['I', 'love', 'programming'], ['Python', 'is', 'great']]\n",
        "\n",
        "# Join the tokens back into strings for CountVectorizer\n",
        "# CountVectorizer expects strings as input, not lists of tokens\n",
        "df['Token_String'] = df['Tokens'].apply(lambda tokens: ' '.join(tokens))\n",
        "\n",
        "# Initialize the CountVectorizer\n",
        "vectorizer = CountVectorizer()\n",
        "\n",
        "# Fit and transform the token strings into a count matrix\n",
        "count_matrix = vectorizer.fit_transform(df['Token_String'])\n",
        "\n",
        "# Display the shape of the count matrix\n",
        "print(\"Shape of count matrix:\", count_matrix.shape)\n",
        "\n",
        "# Optional: Convert the count matrix back to a DataFrame for better readability\n",
        "# Note: CountVectorizer returns a sparse matrix, converting to dense might use a lot of memory for large datasets\n",
        "count_df = pd.DataFrame(count_matrix.todense(), columns=vectorizer.get_feature_names_out())\n",
        "print(count_df.head())"
      ]
    },
    {
      "cell_type": "markdown",
      "metadata": {
        "id": "rQjgM9WUYTlu"
      },
      "source": [
        "# **📌What Is One Hot Encoding**\n",
        "\n",
        "\n",
        "\n"
      ]
    },
    {
      "cell_type": "markdown",
      "metadata": {
        "id": "gkdfD4XlYmHF"
      },
      "source": [
        "One hot encoding is a fundamental technique used in natural language processing (NLP) to convert text data into a numerical format that machine learning models can understand. Computers do not inherently understand words, sentences, or language; they only process numbers. Therefore, we need a method to represent words as numbers without losing their identity. One hot encoding helps achieve this by assigning each unique word in a vocabulary a distinct binary vector.\n",
        "\n",
        "In one hot encoding, we begin by creating a vocabulary of all unique words present in our dataset. Suppose we have five unique words: \"apple\", \"banana\", \"cat\", \"dog\", and \"elephant\". Each word is represented as a vector of length equal to the vocabulary size, which is five in this case. For \"apple\", the vector would be [1, 0, 0, 0, 0]; for \"banana\", it would be [0, 1, 0, 0, 0], and so on. Only one position in the vector has a value of 1, indicating the presence of that specific word, while all other positions are 0.\n",
        "\n",
        "This binary representation makes it easy to distinguish between different words. Each word is mutually exclusive in its representation. That means no two words share the same encoding, and each is orthogonal to the others in vector space. This is important because it prevents the model from assuming any inherent ordering or relationship between the words based on their encoding. Unlike label encoding, where numbers might imply ranking (like 1, 2, 3), one hot encoding avoids such misleading implications.\n",
        "\n",
        "One hot encoding is particularly useful in early-stage NLP models where word meaning isn’t derived from context. It’s often used before applying more advanced representations like word embeddings (Word2Vec, GloVe) or contextual embeddings (BERT, GPT). It is simple, fast, and works well for small vocabularies and short texts. However, it has limitations when applied to large datasets. As the vocabulary grows, the length of each one hot vector increases, leading to high memory consumption and sparse matrices with lots of zeros.\n",
        "\n",
        "For example, if your vocabulary contains 10,000 words, each one hot vector will be 10,000 elements long with only a single 1 and 9,999 zeros. This is computationally inefficient. Moreover, one hot encoding does not capture any semantic similarity between words. For instance, “king” and “queen” will have completely different one hot vectors, even though they are related in meaning. As a result, while one hot encoding is effective for simple tasks and demonstrations, more sophisticated models often rely on embedding techniques that capture context and relationships between words.\n",
        "\n",
        "In sentence processing, we apply one hot encoding to each word in the sentence using the predefined vocabulary. The entire sentence can then be represented as a matrix of binary vectors, one for each word. This makes it suitable for feeding into neural networks, especially in tasks like sentiment analysis, text classification, or intent detection. One hot encoding is also commonly used in bag-of-words models and feedforward neural networks as input features.\n",
        "\n",
        "While using one hot encoding, special care must be taken to handle unknown or out-of-vocabulary words. If a word appears during testing that was not present in the training vocabulary, it cannot be properly encoded unless a placeholder token like <UNK> is used. Modern libraries like Scikit-learn’s OneHotEncoder offer ways to handle unknowns gracefully using parameters like handle_unknown='ignore'.\n",
        "\n",
        "In conclusion, one hot encoding is a basic yet powerful technique to represent categorical text data numerically. It is simple to implement, interpretable, and serves as a good starting point for understanding word representation in NLP. Despite its limitations in scalability and lack of semantic depth, it remains an important concept in machine learning and natural language processing. Understanding one hot encoding helps build the foundation for more complex text representation methods used in deep learning models today. It exemplifies the importance of data preprocessing and feature engineering in NLP pipelines."
      ]
    },
    {
      "cell_type": "markdown",
      "metadata": {
        "id": "rQqUuk4LEdic"
      },
      "source": [
        "**📌Add Unknown Word Example**"
      ]
    },
    {
      "cell_type": "code",
      "execution_count": 15,
      "metadata": {
        "colab": {
          "base_uri": "https://localhost:8080/"
        },
        "id": "tWU426QXG_EH",
        "outputId": "44e8ea71-b10b-4d0d-fc13-3a1fb07d3b2f"
      },
      "outputs": [
        {
          "name": "stdout",
          "output_type": "stream",
          "text": [
            "Known word 'banana':\n",
            "<Compressed Sparse Row sparse matrix of dtype 'float64'\n",
            "\twith 1 stored elements and shape (1, 3)>\n",
            "  Coords\tValues\n",
            "  (0, 1)\t1.0\n",
            "\n",
            "Unknown word 'nonexistent':\n",
            "<Compressed Sparse Row sparse matrix of dtype 'float64'\n",
            "\twith 0 stored elements and shape (1, 3)>\n"
          ]
        }
      ],
      "source": [
        "from sklearn.preprocessing import OneHotEncoder\n",
        "import numpy as np\n",
        "\n",
        "# Example vocabulary\n",
        "vocab = ['apple', 'banana', 'cat']\n",
        "\n",
        "# Step 1: Initialize the encoder with handle_unknown='ignore'\n",
        "# Removed the 'sparse=False' argument as it's not supported in this version\n",
        "encoder = OneHotEncoder(handle_unknown='ignore')\n",
        "encoder.fit(np.array(vocab).reshape(-1, 1))\n",
        "\n",
        "# Step 2: Try transforming a known and an unknown word\n",
        "print(\"Known word 'banana':\")\n",
        "print(encoder.transform([['banana']]))\n",
        "\n",
        "print(\"\\nUnknown word 'nonexistent':\")\n",
        "print(encoder.transform([['nonexistent']]))"
      ]
    }
  ],
  "metadata": {
    "colab": {
      "name": "Welcome To Colab",
      "provenance": []
    },
    "kernelspec": {
      "display_name": "Python 3",
      "name": "python3"
    }
  },
  "nbformat": 4,
  "nbformat_minor": 0
}
