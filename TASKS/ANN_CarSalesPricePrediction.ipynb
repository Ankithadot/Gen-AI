{
  "cells": [
    {
      "cell_type": "markdown",
      "source": [
        "# **🔹 Step 1: Load and Explore the Dataset**"
      ],
      "metadata": {
        "id": "iqWPrcY_mJC2"
      }
    },
    {
      "cell_type": "markdown",
      "source": [
        "**CODE:**"
      ],
      "metadata": {
        "id": "4GtMPJrknv34"
      }
    },
    {
      "cell_type": "code",
      "source": [
        "import pandas as pd\n",
        "\n",
        "# Load the dataset, specifying the encoding\n",
        "# Try 'latin-1' as a common alternative encoding if the default 'utf-8' fails\n",
        "try:\n",
        "    df = pd.read_csv(\"car_purchasing.csv\", encoding='utf-8')\n",
        "except UnicodeDecodeError:\n",
        "    print(\"UTF-8 decoding failed, trying latin-1...\")\n",
        "    df = pd.read_csv(\"car_purchasing.csv\", encoding='latin-1')\n",
        "\n",
        "\n",
        "# Display basic info\n",
        "print(\"Column Names:\", df.columns.tolist())\n",
        "print(\"\\nShape of Dataset:\", df.shape)\n",
        "print(\"\\nData Types:\\n\", df.dtypes)\n",
        "print(\"\\nMissing Values:\\n\", df.isnull().sum())\n",
        "\n",
        "# Display the first few rows"
      ],
      "metadata": {
        "colab": {
          "base_uri": "https://localhost:8080/"
        },
        "id": "sqCFYfY3n0vL",
        "outputId": "e6f1e8f8-d34c-4f53-b45a-7477db739a84"
      },
      "execution_count": null,
      "outputs": [
        {
          "output_type": "stream",
          "name": "stdout",
          "text": [
            "UTF-8 decoding failed, trying latin-1...\n",
            "Column Names: ['customer name', 'customer e-mail', 'country', 'gender', 'age', 'annual Salary', 'credit card debt', 'net worth', 'car purchase amount']\n",
            "\n",
            "Shape of Dataset: (500, 9)\n",
            "\n",
            "Data Types:\n",
            " customer name           object\n",
            "customer e-mail         object\n",
            "country                 object\n",
            "gender                   int64\n",
            "age                    float64\n",
            "annual Salary          float64\n",
            "credit card debt       float64\n",
            "net worth              float64\n",
            "car purchase amount    float64\n",
            "dtype: object\n",
            "\n",
            "Missing Values:\n",
            " customer name          0\n",
            "customer e-mail        0\n",
            "country                0\n",
            "gender                 0\n",
            "age                    0\n",
            "annual Salary          0\n",
            "credit card debt       0\n",
            "net worth              0\n",
            "car purchase amount    0\n",
            "dtype: int64\n"
          ]
        }
      ]
    },
    {
      "cell_type": "markdown",
      "source": [
        "# **MARKDOWN:**"
      ],
      "metadata": {
        "id": "wPcAuFAlrIH8"
      }
    },
    {
      "cell_type": "markdown",
      "source": [
        "> The dataset contains car purchasing details. Columns include personal info, car make, model, year, engine size, and purchasing price. We found no missing values."
      ],
      "metadata": {
        "id": "Z1FUVXgarTHl"
      }
    },
    {
      "cell_type": "markdown",
      "source": [
        "# **🔹 Step 2: Preprocessing**"
      ],
      "metadata": {
        "id": "oNCyI11SrkYm"
      }
    },
    {
      "cell_type": "code",
      "source": [
        "from sklearn.preprocessing import StandardScaler, LabelEncoder\n",
        "from sklearn.model_selection import train_test_split\n",
        "\n",
        "# Print columns to verify\n",
        "print(\"Columns before dropping:\", df.columns.tolist())\n",
        "\n",
        "# Drop personal identifiers\n",
        "# Corrected column names to match the actual column names in the DataFrame\n",
        "# Check the print output above for the correct column name for phone number\n",
        "# Assuming the correct name is 'customer phone', based on the commented out code\n",
        "# Correcting the column name 'customer phone' to 'customer phone number'\n",
        "# Based on the error, the column name is likely 'customer phone' not 'customer phone number'\n",
        "# Let's change 'customer phone number' to 'customer phone' in the drop list\n",
        "df = df.drop(['customer name', 'customer e-mail', ], axis=1)\n",
        "\n",
        "# Encode categorical variables\n",
        "label_encoders = {}\n",
        "# Assuming 'country' and 'gender' are the remaining categorical columns to encode\n",
        "for col in ['country', 'gender']: # Updated columns to encode\n",
        "    le = LabelEncoder()\n",
        "    df[col] = le.fit_transform(df[col])\n",
        "    label_encoders[col] = le\n",
        "\n",
        "# Features and target\n",
        "X = df.drop('car purchase amount', axis=1) # Corrected target column name\n",
        "y = df['car purchase amount'] # Corrected target column name\n",
        "\n",
        "# Scale numerical features\n",
        "scaler = StandardScaler()\n",
        "X_scaled = scaler.fit_transform(X)\n",
        "\n",
        "# Train-test split\n",
        "X_train, X_test, y_train, y_test = train_test_split(X_scaled, y, test_size=0.2, random_state=42)"
      ],
      "metadata": {
        "colab": {
          "base_uri": "https://localhost:8080/"
        },
        "id": "IRhC-PS8tSmc",
        "outputId": "13b3f112-edef-4017-88b0-6866f9d5e1a6"
      },
      "execution_count": null,
      "outputs": [
        {
          "output_type": "stream",
          "name": "stdout",
          "text": [
            "Columns before dropping: ['customer name', 'customer e-mail', 'country', 'gender', 'age', 'annual Salary', 'credit card debt', 'net worth', 'car purchase amount']\n"
          ]
        }
      ]
    },
    {
      "cell_type": "markdown",
      "source": [
        "## **✔️ Markdown Notes:**"
      ],
      "metadata": {
        "id": "qUYlZS9_t4WP"
      }
    },
    {
      "cell_type": "markdown",
      "source": [
        "> Dropped personal data columns.\n",
        "\n",
        "Encoded categorical features using LabelEncoder.\n",
        "\n",
        "Scaled numeric values using StandardScaler.\n",
        "\n",
        "Split data: 80% train, 20%"
      ],
      "metadata": {
        "id": "vxIcm2rEt_Ts"
      }
    },
    {
      "cell_type": "markdown",
      "source": [
        "# **🔹 Step 3: Build the ANN**"
      ],
      "metadata": {
        "id": "dqXDNZcrxhWR"
      }
    },
    {
      "cell_type": "code",
      "source": [
        "from tensorflow.keras.models import Sequential\n",
        "from tensorflow.keras.layers import Dense\n",
        "\n",
        "# Build ANN model\n",
        "model = Sequential([\n",
        "    Dense(64, input_dim=X_train.shape[1], activation='relu'),\n",
        "    Dense(32, activation='relu'),\n",
        "    Dense(1, activation='linear')\n",
        "])"
      ],
      "metadata": {
        "colab": {
          "base_uri": "https://localhost:8080/"
        },
        "id": "FhO1ucKsxrSw",
        "outputId": "78ae2285-708e-451d-fe05-d8fd74e3203a"
      },
      "execution_count": null,
      "outputs": [
        {
          "output_type": "stream",
          "name": "stderr",
          "text": [
            "/usr/local/lib/python3.11/dist-packages/keras/src/layers/core/dense.py:87: UserWarning: Do not pass an `input_shape`/`input_dim` argument to a layer. When using Sequential models, prefer using an `Input(shape)` object as the first layer in the model instead.\n",
            "  super().__init__(activity_regularizer=activity_regularizer, **kwargs)\n"
          ]
        }
      ]
    },
    {
      "cell_type": "markdown",
      "source": [
        "# **✔️ Explanation**"
      ],
      "metadata": {
        "id": "vuR1cDU3x-W1"
      }
    },
    {
      "cell_type": "markdown",
      "source": [
        "Input layer matches number of features.\n",
        "\n",
        "Two hidden layers: 64 and 32 neurons with ReLU.\n",
        "\n",
        "Output layer: 1 neuron, linear activation for regression."
      ],
      "metadata": {
        "id": "YCjwX8hYyW1j"
      }
    },
    {
      "cell_type": "markdown",
      "source": [
        "# **🔹 Step 4: Compile the Model**"
      ],
      "metadata": {
        "id": "p6a8YPRjy0T0"
      }
    },
    {
      "cell_type": "markdown",
      "source": [
        "**✔️ Code:**"
      ],
      "metadata": {
        "id": "3OhyFfTazEnO"
      }
    },
    {
      "cell_type": "code",
      "source": [
        "model.compile(optimizer='adam', loss='mean_squared_error', metrics=['mean_absolute_error'])"
      ],
      "metadata": {
        "id": "tEVn8qvRzVa6"
      },
      "execution_count": null,
      "outputs": []
    },
    {
      "cell_type": "markdown",
      "source": [
        "# **✔️ Markdown:**"
      ],
      "metadata": {
        "id": "x6-PMF-xzo9B"
      }
    },
    {
      "cell_type": "markdown",
      "source": [
        "> Used Adam optimizer (fast convergence).\n",
        "\n",
        "Loss: MSE (regression).\n",
        "\n",
        "Metric: MAE (interpretability of prediction error)."
      ],
      "metadata": {
        "id": "a1qD1EGwz1HI"
      }
    },
    {
      "cell_type": "markdown",
      "source": [
        "# **🔹 Step 5: Train the Model**"
      ],
      "metadata": {
        "id": "iR9xvj5D0WAZ"
      }
    },
    {
      "cell_type": "markdown",
      "source": [
        "**✔️ Code:**"
      ],
      "metadata": {
        "id": "InSo_kn70nRk"
      }
    },
    {
      "cell_type": "code",
      "source": [
        "from tensorflow.keras.callbacks import EarlyStopping\n",
        "import matplotlib.pyplot as plt\n",
        "\n",
        "early_stop = EarlyStopping(monitor='val_loss', patience=10)\n",
        "\n",
        "history = model.fit(\n",
        "    X_train, y_train,\n",
        "    validation_split=0.2,\n",
        "    epochs=100,\n",
        "    callbacks=[early_stop],\n",
        "    verbose=1\n",
        ")\n",
        "\n",
        "# Plot training history\n",
        "plt.plot(history.history['loss'], label='Train Loss')\n",
        "plt.plot(history.history['val_loss'], label='Val Loss')\n",
        "plt.title('Training vs Validation Loss')\n",
        "plt.xlabel('Epochs')\n",
        "plt.ylabel('Loss')\n",
        "plt.legend()\n",
        "plt.show()"
      ],
      "metadata": {
        "colab": {
          "base_uri": "https://localhost:8080/",
          "height": 1000
        },
        "id": "82J8rfl_0z0i",
        "outputId": "4d020cd2-7e89-4d0c-872e-03b8650591b7"
      },
      "execution_count": null,
      "outputs": [
        {
          "output_type": "stream",
          "name": "stdout",
          "text": [
            "Epoch 1/100\n",
            "\u001b[1m10/10\u001b[0m \u001b[32m━━━━━━━━━━━━━━━━━━━━\u001b[0m\u001b[37m\u001b[0m \u001b[1m2s\u001b[0m 32ms/step - loss: 2056340352.0000 - mean_absolute_error: 43965.9766 - val_loss: 1938640512.0000 - val_mean_absolute_error: 42924.9453\n",
            "Epoch 2/100\n",
            "\u001b[1m10/10\u001b[0m \u001b[32m━━━━━━━━━━━━━━━━━━━━\u001b[0m\u001b[37m\u001b[0m \u001b[1m0s\u001b[0m 9ms/step - loss: 2070779520.0000 - mean_absolute_error: 44368.9492 - val_loss: 1938584960.0000 - val_mean_absolute_error: 42924.2891\n",
            "Epoch 3/100\n",
            "\u001b[1m10/10\u001b[0m \u001b[32m━━━━━━━━━━━━━━━━━━━━\u001b[0m\u001b[37m\u001b[0m \u001b[1m0s\u001b[0m 10ms/step - loss: 2102410496.0000 - mean_absolute_error: 44374.2656 - val_loss: 1938514304.0000 - val_mean_absolute_error: 42923.4570\n",
            "Epoch 4/100\n",
            "\u001b[1m10/10\u001b[0m \u001b[32m━━━━━━━━━━━━━━━━━━━━\u001b[0m\u001b[37m\u001b[0m \u001b[1m0s\u001b[0m 10ms/step - loss: 2093853568.0000 - mean_absolute_error: 44423.8750 - val_loss: 1938421760.0000 - val_mean_absolute_error: 42922.3672\n",
            "Epoch 5/100\n",
            "\u001b[1m10/10\u001b[0m \u001b[32m━━━━━━━━━━━━━━━━━━━━\u001b[0m\u001b[37m\u001b[0m \u001b[1m0s\u001b[0m 11ms/step - loss: 2253031936.0000 - mean_absolute_error: 46168.6328 - val_loss: 1938300672.0000 - val_mean_absolute_error: 42920.9570\n",
            "Epoch 6/100\n",
            "\u001b[1m10/10\u001b[0m \u001b[32m━━━━━━━━━━━━━━━━━━━━\u001b[0m\u001b[37m\u001b[0m \u001b[1m0s\u001b[0m 14ms/step - loss: 2053680768.0000 - mean_absolute_error: 43861.0156 - val_loss: 1938147968.0000 - val_mean_absolute_error: 42919.1641\n",
            "Epoch 7/100\n",
            "\u001b[1m10/10\u001b[0m \u001b[32m━━━━━━━━━━━━━━━━━━━━\u001b[0m\u001b[37m\u001b[0m \u001b[1m0s\u001b[0m 9ms/step - loss: 2098637312.0000 - mean_absolute_error: 44450.7305 - val_loss: 1937954048.0000 - val_mean_absolute_error: 42916.9062\n",
            "Epoch 8/100\n",
            "\u001b[1m10/10\u001b[0m \u001b[32m━━━━━━━━━━━━━━━━━━━━\u001b[0m\u001b[37m\u001b[0m \u001b[1m0s\u001b[0m 13ms/step - loss: 2084917888.0000 - mean_absolute_error: 44236.1719 - val_loss: 1937714560.0000 - val_mean_absolute_error: 42914.1250\n",
            "Epoch 9/100\n",
            "\u001b[1m10/10\u001b[0m \u001b[32m━━━━━━━━━━━━━━━━━━━━\u001b[0m\u001b[37m\u001b[0m \u001b[1m0s\u001b[0m 9ms/step - loss: 2132638592.0000 - mean_absolute_error: 44892.6719 - val_loss: 1937423744.0000 - val_mean_absolute_error: 42910.7617\n",
            "Epoch 10/100\n",
            "\u001b[1m10/10\u001b[0m \u001b[32m━━━━━━━━━━━━━━━━━━━━\u001b[0m\u001b[37m\u001b[0m \u001b[1m0s\u001b[0m 9ms/step - loss: 2054614912.0000 - mean_absolute_error: 44000.2031 - val_loss: 1937070720.0000 - val_mean_absolute_error: 42906.6797\n",
            "Epoch 11/100\n",
            "\u001b[1m10/10\u001b[0m \u001b[32m━━━━━━━━━━━━━━━━━━━━\u001b[0m\u001b[37m\u001b[0m \u001b[1m0s\u001b[0m 9ms/step - loss: 1980265856.0000 - mean_absolute_error: 43052.8516 - val_loss: 1936651648.0000 - val_mean_absolute_error: 42901.8477\n",
            "Epoch 12/100\n",
            "\u001b[1m10/10\u001b[0m \u001b[32m━━━━━━━━━━━━━━━━━━━━\u001b[0m\u001b[37m\u001b[0m \u001b[1m0s\u001b[0m 9ms/step - loss: 2058611840.0000 - mean_absolute_error: 44053.8555 - val_loss: 1936151296.0000 - val_mean_absolute_error: 42896.1094\n",
            "Epoch 13/100\n",
            "\u001b[1m10/10\u001b[0m \u001b[32m━━━━━━━━━━━━━━━━━━━━\u001b[0m\u001b[37m\u001b[0m \u001b[1m0s\u001b[0m 10ms/step - loss: 2079370752.0000 - mean_absolute_error: 44350.6758 - val_loss: 1935564160.0000 - val_mean_absolute_error: 42889.3945\n",
            "Epoch 14/100\n",
            "\u001b[1m10/10\u001b[0m \u001b[32m━━━━━━━━━━━━━━━━━━━━\u001b[0m\u001b[37m\u001b[0m \u001b[1m0s\u001b[0m 9ms/step - loss: 2112065280.0000 - mean_absolute_error: 44660.3555 - val_loss: 1934888192.0000 - val_mean_absolute_error: 42881.6680\n",
            "Epoch 15/100\n",
            "\u001b[1m10/10\u001b[0m \u001b[32m━━━━━━━━━━━━━━━━━━━━\u001b[0m\u001b[37m\u001b[0m \u001b[1m0s\u001b[0m 9ms/step - loss: 2038391680.0000 - mean_absolute_error: 43686.5117 - val_loss: 1934104576.0000 - val_mean_absolute_error: 42872.7539\n",
            "Epoch 16/100\n",
            "\u001b[1m10/10\u001b[0m \u001b[32m━━━━━━━━━━━━━━━━━━━━\u001b[0m\u001b[37m\u001b[0m \u001b[1m0s\u001b[0m 9ms/step - loss: 2174971136.0000 - mean_absolute_error: 45213.7539 - val_loss: 1933203072.0000 - val_mean_absolute_error: 42862.5195\n",
            "Epoch 17/100\n",
            "\u001b[1m10/10\u001b[0m \u001b[32m━━━━━━━━━━━━━━━━━━━━\u001b[0m\u001b[37m\u001b[0m \u001b[1m0s\u001b[0m 13ms/step - loss: 2097096192.0000 - mean_absolute_error: 44447.9805 - val_loss: 1932192768.0000 - val_mean_absolute_error: 42851.0703\n",
            "Epoch 18/100\n",
            "\u001b[1m10/10\u001b[0m \u001b[32m━━━━━━━━━━━━━━━━━━━━\u001b[0m\u001b[37m\u001b[0m \u001b[1m0s\u001b[0m 10ms/step - loss: 2007185792.0000 - mean_absolute_error: 43399.3789 - val_loss: 1931056896.0000 - val_mean_absolute_error: 42838.1875\n",
            "Epoch 19/100\n",
            "\u001b[1m10/10\u001b[0m \u001b[32m━━━━━━━━━━━━━━━━━━━━\u001b[0m\u001b[37m\u001b[0m \u001b[1m0s\u001b[0m 9ms/step - loss: 2086181120.0000 - mean_absolute_error: 44314.0547 - val_loss: 1929767680.0000 - val_mean_absolute_error: 42823.6367\n",
            "Epoch 20/100\n",
            "\u001b[1m10/10\u001b[0m \u001b[32m━━━━━━━━━━━━━━━━━━━━\u001b[0m\u001b[37m\u001b[0m \u001b[1m0s\u001b[0m 9ms/step - loss: 2084358272.0000 - mean_absolute_error: 44337.5781 - val_loss: 1928333312.0000 - val_mean_absolute_error: 42807.4805\n",
            "Epoch 21/100\n",
            "\u001b[1m10/10\u001b[0m \u001b[32m━━━━━━━━━━━━━━━━━━━━\u001b[0m\u001b[37m\u001b[0m \u001b[1m0s\u001b[0m 9ms/step - loss: 2064006528.0000 - mean_absolute_error: 44071.9492 - val_loss: 1926748160.0000 - val_mean_absolute_error: 42789.6562\n",
            "Epoch 22/100\n",
            "\u001b[1m10/10\u001b[0m \u001b[32m━━━━━━━━━━━━━━━━━━━━\u001b[0m\u001b[37m\u001b[0m \u001b[1m0s\u001b[0m 9ms/step - loss: 2073962880.0000 - mean_absolute_error: 44265.9609 - val_loss: 1924995328.0000 - val_mean_absolute_error: 42769.9492\n",
            "Epoch 23/100\n",
            "\u001b[1m10/10\u001b[0m \u001b[32m━━━━━━━━━━━━━━━━━━━━\u001b[0m\u001b[37m\u001b[0m \u001b[1m0s\u001b[0m 13ms/step - loss: 2053346560.0000 - mean_absolute_error: 43915.4688 - val_loss: 1923069184.0000 - val_mean_absolute_error: 42748.3438\n",
            "Epoch 24/100\n",
            "\u001b[1m10/10\u001b[0m \u001b[32m━━━━━━━━━━━━━━━━━━━━\u001b[0m\u001b[37m\u001b[0m \u001b[1m0s\u001b[0m 14ms/step - loss: 2091897216.0000 - mean_absolute_error: 44352.7969 - val_loss: 1920959232.0000 - val_mean_absolute_error: 42724.7383\n",
            "Epoch 25/100\n",
            "\u001b[1m10/10\u001b[0m \u001b[32m━━━━━━━━━━━━━━━━━━━━\u001b[0m\u001b[37m\u001b[0m \u001b[1m0s\u001b[0m 9ms/step - loss: 2018591360.0000 - mean_absolute_error: 43606.2539 - val_loss: 1918672896.0000 - val_mean_absolute_error: 42699.1328\n",
            "Epoch 26/100\n",
            "\u001b[1m10/10\u001b[0m \u001b[32m━━━━━━━━━━━━━━━━━━━━\u001b[0m\u001b[37m\u001b[0m \u001b[1m0s\u001b[0m 10ms/step - loss: 2100038912.0000 - mean_absolute_error: 44614.0664 - val_loss: 1916175360.0000 - val_mean_absolute_error: 42671.2930\n",
            "Epoch 27/100\n",
            "\u001b[1m10/10\u001b[0m \u001b[32m━━━━━━━━━━━━━━━━━━━━\u001b[0m\u001b[37m\u001b[0m \u001b[1m0s\u001b[0m 14ms/step - loss: 2023305984.0000 - mean_absolute_error: 43645.5625 - val_loss: 1913487744.0000 - val_mean_absolute_error: 42641.3242\n",
            "Epoch 28/100\n",
            "\u001b[1m10/10\u001b[0m \u001b[32m━━━━━━━━━━━━━━━━━━━━\u001b[0m\u001b[37m\u001b[0m \u001b[1m0s\u001b[0m 15ms/step - loss: 2123345280.0000 - mean_absolute_error: 44852.9258 - val_loss: 1910581632.0000 - val_mean_absolute_error: 42608.9492\n",
            "Epoch 29/100\n",
            "\u001b[1m10/10\u001b[0m \u001b[32m━━━━━━━━━━━━━━━━━━━━\u001b[0m\u001b[37m\u001b[0m \u001b[1m0s\u001b[0m 17ms/step - loss: 2054949376.0000 - mean_absolute_error: 43977.0273 - val_loss: 1907467904.0000 - val_mean_absolute_error: 42574.2617\n",
            "Epoch 30/100\n",
            "\u001b[1m10/10\u001b[0m \u001b[32m━━━━━━━━━━━━━━━━━━━━\u001b[0m\u001b[37m\u001b[0m \u001b[1m0s\u001b[0m 16ms/step - loss: 2067880960.0000 - mean_absolute_error: 44196.5547 - val_loss: 1904127616.0000 - val_mean_absolute_error: 42537.1133\n",
            "Epoch 31/100\n",
            "\u001b[1m10/10\u001b[0m \u001b[32m━━━━━━━━━━━━━━━━━━━━\u001b[0m\u001b[37m\u001b[0m \u001b[1m0s\u001b[0m 16ms/step - loss: 2015697024.0000 - mean_absolute_error: 43480.7188 - val_loss: 1900569600.0000 - val_mean_absolute_error: 42497.5195\n",
            "Epoch 32/100\n",
            "\u001b[1m10/10\u001b[0m \u001b[32m━━━━━━━━━━━━━━━━━━━━\u001b[0m\u001b[37m\u001b[0m \u001b[1m0s\u001b[0m 17ms/step - loss: 2014815360.0000 - mean_absolute_error: 43620.6250 - val_loss: 1896778368.0000 - val_mean_absolute_error: 42455.3203\n",
            "Epoch 33/100\n",
            "\u001b[1m10/10\u001b[0m \u001b[32m━━━━━━━━━━━━━━━━━━━━\u001b[0m\u001b[37m\u001b[0m \u001b[1m0s\u001b[0m 16ms/step - loss: 2018229376.0000 - mean_absolute_error: 43654.8750 - val_loss: 1892712448.0000 - val_mean_absolute_error: 42410.1484\n",
            "Epoch 34/100\n",
            "\u001b[1m10/10\u001b[0m \u001b[32m━━━━━━━━━━━━━━━━━━━━\u001b[0m\u001b[37m\u001b[0m \u001b[1m0s\u001b[0m 17ms/step - loss: 2051677056.0000 - mean_absolute_error: 43945.8242 - val_loss: 1888386048.0000 - val_mean_absolute_error: 42362.1641\n",
            "Epoch 35/100\n",
            "\u001b[1m10/10\u001b[0m \u001b[32m━━━━━━━━━━━━━━━━━━━━\u001b[0m\u001b[37m\u001b[0m \u001b[1m0s\u001b[0m 16ms/step - loss: 1999632512.0000 - mean_absolute_error: 43294.7305 - val_loss: 1883815936.0000 - val_mean_absolute_error: 42311.3867\n",
            "Epoch 36/100\n",
            "\u001b[1m10/10\u001b[0m \u001b[32m━━━━━━━━━━━━━━━━━━━━\u001b[0m\u001b[37m\u001b[0m \u001b[1m0s\u001b[0m 19ms/step - loss: 1993811968.0000 - mean_absolute_error: 43314.4336 - val_loss: 1878994176.0000 - val_mean_absolute_error: 42257.8242\n",
            "Epoch 37/100\n",
            "\u001b[1m10/10\u001b[0m \u001b[32m━━━━━━━━━━━━━━━━━━━━\u001b[0m\u001b[37m\u001b[0m \u001b[1m0s\u001b[0m 9ms/step - loss: 1953642368.0000 - mean_absolute_error: 42870.7109 - val_loss: 1873928576.0000 - val_mean_absolute_error: 42201.4219\n",
            "Epoch 38/100\n",
            "\u001b[1m10/10\u001b[0m \u001b[32m━━━━━━━━━━━━━━━━━━━━\u001b[0m\u001b[37m\u001b[0m \u001b[1m0s\u001b[0m 9ms/step - loss: 2084818304.0000 - mean_absolute_error: 44270.4180 - val_loss: 1868509568.0000 - val_mean_absolute_error: 42141.3945\n",
            "Epoch 39/100\n",
            "\u001b[1m10/10\u001b[0m \u001b[32m━━━━━━━━━━━━━━━━━━━━\u001b[0m\u001b[37m\u001b[0m \u001b[1m0s\u001b[0m 9ms/step - loss: 1916883328.0000 - mean_absolute_error: 42503.6602 - val_loss: 1862957824.0000 - val_mean_absolute_error: 42079.4766\n",
            "Epoch 40/100\n",
            "\u001b[1m10/10\u001b[0m \u001b[32m━━━━━━━━━━━━━━━━━━━━\u001b[0m\u001b[37m\u001b[0m \u001b[1m0s\u001b[0m 10ms/step - loss: 2011767808.0000 - mean_absolute_error: 43504.7344 - val_loss: 1856983808.0000 - val_mean_absolute_error: 42013.2148\n",
            "Epoch 41/100\n",
            "\u001b[1m10/10\u001b[0m \u001b[32m━━━━━━━━━━━━━━━━━━━━\u001b[0m\u001b[37m\u001b[0m \u001b[1m0s\u001b[0m 9ms/step - loss: 1907048960.0000 - mean_absolute_error: 42356.2031 - val_loss: 1850817792.0000 - val_mean_absolute_error: 41944.4375\n",
            "Epoch 42/100\n",
            "\u001b[1m10/10\u001b[0m \u001b[32m━━━━━━━━━━━━━━━━━━━━\u001b[0m\u001b[37m\u001b[0m \u001b[1m0s\u001b[0m 9ms/step - loss: 1957355520.0000 - mean_absolute_error: 42929.8242 - val_loss: 1844317184.0000 - val_mean_absolute_error: 41872.0664\n",
            "Epoch 43/100\n",
            "\u001b[1m10/10\u001b[0m \u001b[32m━━━━━━━━━━━━━━━━━━━━\u001b[0m\u001b[37m\u001b[0m \u001b[1m0s\u001b[0m 10ms/step - loss: 2020973440.0000 - mean_absolute_error: 43728.6719 - val_loss: 1837472384.0000 - val_mean_absolute_error: 41795.9258\n",
            "Epoch 44/100\n",
            "\u001b[1m10/10\u001b[0m \u001b[32m━━━━━━━━━━━━━━━━━━━━\u001b[0m\u001b[37m\u001b[0m \u001b[1m0s\u001b[0m 11ms/step - loss: 1941845120.0000 - mean_absolute_error: 42784.0742 - val_loss: 1830419200.0000 - val_mean_absolute_error: 41717.1797\n",
            "Epoch 45/100\n",
            "\u001b[1m10/10\u001b[0m \u001b[32m━━━━━━━━━━━━━━━━━━━━\u001b[0m\u001b[37m\u001b[0m \u001b[1m0s\u001b[0m 13ms/step - loss: 1942001408.0000 - mean_absolute_error: 42737.7188 - val_loss: 1823041280.0000 - val_mean_absolute_error: 41634.7891\n",
            "Epoch 46/100\n",
            "\u001b[1m10/10\u001b[0m \u001b[32m━━━━━━━━━━━━━━━━━━━━\u001b[0m\u001b[37m\u001b[0m \u001b[1m0s\u001b[0m 10ms/step - loss: 1947790848.0000 - mean_absolute_error: 42863.5234 - val_loss: 1815325696.0000 - val_mean_absolute_error: 41548.6367\n",
            "Epoch 47/100\n",
            "\u001b[1m10/10\u001b[0m \u001b[32m━━━━━━━━━━━━━━━━━━━━\u001b[0m\u001b[37m\u001b[0m \u001b[1m0s\u001b[0m 9ms/step - loss: 1917620480.0000 - mean_absolute_error: 42404.2148 - val_loss: 1807328256.0000 - val_mean_absolute_error: 41459.1211\n",
            "Epoch 48/100\n",
            "\u001b[1m10/10\u001b[0m \u001b[32m━━━━━━━━━━━━━━━━━━━━\u001b[0m\u001b[37m\u001b[0m \u001b[1m0s\u001b[0m 10ms/step - loss: 1882716928.0000 - mean_absolute_error: 42048.7070 - val_loss: 1799081344.0000 - val_mean_absolute_error: 41366.5859\n",
            "Epoch 49/100\n",
            "\u001b[1m10/10\u001b[0m \u001b[32m━━━━━━━━━━━━━━━━━━━━\u001b[0m\u001b[37m\u001b[0m \u001b[1m0s\u001b[0m 9ms/step - loss: 1924273664.0000 - mean_absolute_error: 42656.7148 - val_loss: 1790424448.0000 - val_mean_absolute_error: 41269.4180\n",
            "Epoch 50/100\n",
            "\u001b[1m10/10\u001b[0m \u001b[32m━━━━━━━━━━━━━━━━━━━━\u001b[0m\u001b[37m\u001b[0m \u001b[1m0s\u001b[0m 10ms/step - loss: 1885864704.0000 - mean_absolute_error: 42179.1523 - val_loss: 1781455872.0000 - val_mean_absolute_error: 41168.6367\n",
            "Epoch 51/100\n",
            "\u001b[1m10/10\u001b[0m \u001b[32m━━━━━━━━━━━━━━━━━━━━\u001b[0m\u001b[37m\u001b[0m \u001b[1m0s\u001b[0m 9ms/step - loss: 1929858688.0000 - mean_absolute_error: 42616.4688 - val_loss: 1772158720.0000 - val_mean_absolute_error: 41064.0742\n",
            "Epoch 52/100\n",
            "\u001b[1m10/10\u001b[0m \u001b[32m━━━━━━━━━━━━━━━━━━━━\u001b[0m\u001b[37m\u001b[0m \u001b[1m0s\u001b[0m 9ms/step - loss: 1854358400.0000 - mean_absolute_error: 41812.2578 - val_loss: 1762571520.0000 - val_mean_absolute_error: 40955.6680\n",
            "Epoch 53/100\n",
            "\u001b[1m10/10\u001b[0m \u001b[32m━━━━━━━━━━━━━━━━━━━━\u001b[0m\u001b[37m\u001b[0m \u001b[1m0s\u001b[0m 9ms/step - loss: 1846677504.0000 - mean_absolute_error: 41828.6250 - val_loss: 1752673920.0000 - val_mean_absolute_error: 40843.5000\n",
            "Epoch 54/100\n",
            "\u001b[1m10/10\u001b[0m \u001b[32m━━━━━━━━━━━━━━━━━━━━\u001b[0m\u001b[37m\u001b[0m \u001b[1m0s\u001b[0m 10ms/step - loss: 1883776768.0000 - mean_absolute_error: 42184.8125 - val_loss: 1742369024.0000 - val_mean_absolute_error: 40726.7539\n",
            "Epoch 55/100\n",
            "\u001b[1m10/10\u001b[0m \u001b[32m━━━━━━━━━━━━━━━━━━━━\u001b[0m\u001b[37m\u001b[0m \u001b[1m0s\u001b[0m 10ms/step - loss: 1861187200.0000 - mean_absolute_error: 41928.0430 - val_loss: 1731902080.0000 - val_mean_absolute_error: 40607.6953\n",
            "Epoch 56/100\n",
            "\u001b[1m10/10\u001b[0m \u001b[32m━━━━━━━━━━━━━━━━━━━━\u001b[0m\u001b[37m\u001b[0m \u001b[1m0s\u001b[0m 9ms/step - loss: 1799909504.0000 - mean_absolute_error: 41254.2031 - val_loss: 1721128704.0000 - val_mean_absolute_error: 40484.5547\n",
            "Epoch 57/100\n",
            "\u001b[1m10/10\u001b[0m \u001b[32m━━━━━━━━━━━━━━━━━━━━\u001b[0m\u001b[37m\u001b[0m \u001b[1m0s\u001b[0m 10ms/step - loss: 1865300480.0000 - mean_absolute_error: 42026.2344 - val_loss: 1709940224.0000 - val_mean_absolute_error: 40356.9219\n",
            "Epoch 58/100\n",
            "\u001b[1m10/10\u001b[0m \u001b[32m━━━━━━━━━━━━━━━━━━━━\u001b[0m\u001b[37m\u001b[0m \u001b[1m0s\u001b[0m 10ms/step - loss: 1775991936.0000 - mean_absolute_error: 40952.7539 - val_loss: 1698430464.0000 - val_mean_absolute_error: 40224.8594\n",
            "Epoch 59/100\n",
            "\u001b[1m10/10\u001b[0m \u001b[32m━━━━━━━━━━━━━━━━━━━━\u001b[0m\u001b[37m\u001b[0m \u001b[1m0s\u001b[0m 11ms/step - loss: 1763222784.0000 - mean_absolute_error: 40820.6250 - val_loss: 1686675840.0000 - val_mean_absolute_error: 40089.4141\n",
            "Epoch 60/100\n",
            "\u001b[1m10/10\u001b[0m \u001b[32m━━━━━━━━━━━━━━━━━━━━\u001b[0m\u001b[37m\u001b[0m \u001b[1m0s\u001b[0m 9ms/step - loss: 1786596096.0000 - mean_absolute_error: 41088.4570 - val_loss: 1674480384.0000 - val_mean_absolute_error: 39948.7812\n",
            "Epoch 61/100\n",
            "\u001b[1m10/10\u001b[0m \u001b[32m━━━━━━━━━━━━━━━━━━━━\u001b[0m\u001b[37m\u001b[0m \u001b[1m0s\u001b[0m 10ms/step - loss: 1791902848.0000 - mean_absolute_error: 41072.3789 - val_loss: 1662041088.0000 - val_mean_absolute_error: 39805.0938\n",
            "Epoch 62/100\n",
            "\u001b[1m10/10\u001b[0m \u001b[32m━━━━━━━━━━━━━━━━━━━━\u001b[0m\u001b[37m\u001b[0m \u001b[1m0s\u001b[0m 9ms/step - loss: 1784830592.0000 - mean_absolute_error: 41078.0977 - val_loss: 1649308416.0000 - val_mean_absolute_error: 39657.1367\n",
            "Epoch 63/100\n",
            "\u001b[1m10/10\u001b[0m \u001b[32m━━━━━━━━━━━━━━━━━━━━\u001b[0m\u001b[37m\u001b[0m \u001b[1m0s\u001b[0m 10ms/step - loss: 1809806208.0000 - mean_absolute_error: 41471.2578 - val_loss: 1636168832.0000 - val_mean_absolute_error: 39504.2070\n",
            "Epoch 64/100\n",
            "\u001b[1m10/10\u001b[0m \u001b[32m━━━━━━━━━━━━━━━━━━━━\u001b[0m\u001b[37m\u001b[0m \u001b[1m0s\u001b[0m 9ms/step - loss: 1785255168.0000 - mean_absolute_error: 41096.3984 - val_loss: 1622850176.0000 - val_mean_absolute_error: 39348.3242\n",
            "Epoch 65/100\n",
            "\u001b[1m10/10\u001b[0m \u001b[32m━━━━━━━━━━━━━━━━━━━━\u001b[0m\u001b[37m\u001b[0m \u001b[1m0s\u001b[0m 10ms/step - loss: 1756206592.0000 - mean_absolute_error: 40872.7500 - val_loss: 1609280512.0000 - val_mean_absolute_error: 39188.6602\n",
            "Epoch 66/100\n",
            "\u001b[1m10/10\u001b[0m \u001b[32m━━━━━━━━━━━━━━━━━━━━\u001b[0m\u001b[37m\u001b[0m \u001b[1m0s\u001b[0m 9ms/step - loss: 1691672448.0000 - mean_absolute_error: 39927.9336 - val_loss: 1595439872.0000 - val_mean_absolute_error: 39025.3555\n",
            "Epoch 67/100\n",
            "\u001b[1m10/10\u001b[0m \u001b[32m━━━━━━━━━━━━━━━━━━━━\u001b[0m\u001b[37m\u001b[0m \u001b[1m0s\u001b[0m 11ms/step - loss: 1689486592.0000 - mean_absolute_error: 40020.4609 - val_loss: 1581252480.0000 - val_mean_absolute_error: 38857.2305\n",
            "Epoch 68/100\n",
            "\u001b[1m10/10\u001b[0m \u001b[32m━━━━━━━━━━━━━━━━━━━━\u001b[0m\u001b[37m\u001b[0m \u001b[1m0s\u001b[0m 9ms/step - loss: 1722161024.0000 - mean_absolute_error: 40479.0156 - val_loss: 1566784768.0000 - val_mean_absolute_error: 38685.1484\n",
            "Epoch 69/100\n",
            "\u001b[1m10/10\u001b[0m \u001b[32m━━━━━━━━━━━━━━━━━━━━\u001b[0m\u001b[37m\u001b[0m \u001b[1m0s\u001b[0m 10ms/step - loss: 1660855424.0000 - mean_absolute_error: 39725.5977 - val_loss: 1552128640.0000 - val_mean_absolute_error: 38509.7578\n",
            "Epoch 70/100\n",
            "\u001b[1m10/10\u001b[0m \u001b[32m━━━━━━━━━━━━━━━━━━━━\u001b[0m\u001b[37m\u001b[0m \u001b[1m0s\u001b[0m 10ms/step - loss: 1631954560.0000 - mean_absolute_error: 39298.5352 - val_loss: 1537090944.0000 - val_mean_absolute_error: 38328.9453\n",
            "Epoch 71/100\n",
            "\u001b[1m10/10\u001b[0m \u001b[32m━━━━━━━━━━━━━━━━━━━━\u001b[0m\u001b[37m\u001b[0m \u001b[1m0s\u001b[0m 10ms/step - loss: 1616260096.0000 - mean_absolute_error: 39180.5703 - val_loss: 1521688832.0000 - val_mean_absolute_error: 38143.1328\n",
            "Epoch 72/100\n",
            "\u001b[1m10/10\u001b[0m \u001b[32m━━━━━━━━━━━━━━━━━━━━\u001b[0m\u001b[37m\u001b[0m \u001b[1m0s\u001b[0m 14ms/step - loss: 1591777920.0000 - mean_absolute_error: 38844.4922 - val_loss: 1506232704.0000 - val_mean_absolute_error: 37955.4570\n",
            "Epoch 73/100\n",
            "\u001b[1m10/10\u001b[0m \u001b[32m━━━━━━━━━━━━━━━━━━━━\u001b[0m\u001b[37m\u001b[0m \u001b[1m0s\u001b[0m 10ms/step - loss: 1547277056.0000 - mean_absolute_error: 38411.0430 - val_loss: 1490505728.0000 - val_mean_absolute_error: 37763.3516\n",
            "Epoch 74/100\n",
            "\u001b[1m10/10\u001b[0m \u001b[32m━━━━━━━━━━━━━━━━━━━━\u001b[0m\u001b[37m\u001b[0m \u001b[1m0s\u001b[0m 10ms/step - loss: 1547780096.0000 - mean_absolute_error: 38439.5898 - val_loss: 1474352896.0000 - val_mean_absolute_error: 37565.4727\n",
            "Epoch 75/100\n",
            "\u001b[1m10/10\u001b[0m \u001b[32m━━━━━━━━━━━━━━━━━━━━\u001b[0m\u001b[37m\u001b[0m \u001b[1m0s\u001b[0m 14ms/step - loss: 1573297152.0000 - mean_absolute_error: 38656.3008 - val_loss: 1457773952.0000 - val_mean_absolute_error: 37361.6172\n",
            "Epoch 76/100\n",
            "\u001b[1m10/10\u001b[0m \u001b[32m━━━━━━━━━━━━━━━━━━━━\u001b[0m\u001b[37m\u001b[0m \u001b[1m0s\u001b[0m 9ms/step - loss: 1537945984.0000 - mean_absolute_error: 38142.1602 - val_loss: 1441163520.0000 - val_mean_absolute_error: 37155.6328\n",
            "Epoch 77/100\n",
            "\u001b[1m10/10\u001b[0m \u001b[32m━━━━━━━━━━━━━━━━━━━━\u001b[0m\u001b[37m\u001b[0m \u001b[1m0s\u001b[0m 9ms/step - loss: 1517558016.0000 - mean_absolute_error: 38071.1641 - val_loss: 1424376320.0000 - val_mean_absolute_error: 36945.9609\n",
            "Epoch 78/100\n",
            "\u001b[1m10/10\u001b[0m \u001b[32m━━━━━━━━━━━━━━━━━━━━\u001b[0m\u001b[37m\u001b[0m \u001b[1m0s\u001b[0m 9ms/step - loss: 1539214592.0000 - mean_absolute_error: 38344.6914 - val_loss: 1407235584.0000 - val_mean_absolute_error: 36731.2109\n",
            "Epoch 79/100\n",
            "\u001b[1m10/10\u001b[0m \u001b[32m━━━━━━━━━━━━━━━━━━━━\u001b[0m\u001b[37m\u001b[0m \u001b[1m0s\u001b[0m 10ms/step - loss: 1451293184.0000 - mean_absolute_error: 37179.4688 - val_loss: 1390229888.0000 - val_mean_absolute_error: 36515.9336\n",
            "Epoch 80/100\n",
            "\u001b[1m10/10\u001b[0m \u001b[32m━━━━━━━━━━━━━━━━━━━━\u001b[0m\u001b[37m\u001b[0m \u001b[1m0s\u001b[0m 10ms/step - loss: 1447794176.0000 - mean_absolute_error: 37224.9727 - val_loss: 1372824960.0000 - val_mean_absolute_error: 36294.2578\n",
            "Epoch 81/100\n",
            "\u001b[1m10/10\u001b[0m \u001b[32m━━━━━━━━━━━━━━━━━━━━\u001b[0m\u001b[37m\u001b[0m \u001b[1m0s\u001b[0m 11ms/step - loss: 1446076800.0000 - mean_absolute_error: 37165.1016 - val_loss: 1355120640.0000 - val_mean_absolute_error: 36067.6758\n",
            "Epoch 82/100\n",
            "\u001b[1m10/10\u001b[0m \u001b[32m━━━━━━━━━━━━━━━━━━━━\u001b[0m\u001b[37m\u001b[0m \u001b[1m0s\u001b[0m 9ms/step - loss: 1345152896.0000 - mean_absolute_error: 35822.3008 - val_loss: 1337556608.0000 - val_mean_absolute_error: 35840.6875\n",
            "Epoch 83/100\n",
            "\u001b[1m10/10\u001b[0m \u001b[32m━━━━━━━━━━━━━━━━━━━━\u001b[0m\u001b[37m\u001b[0m \u001b[1m0s\u001b[0m 9ms/step - loss: 1372351488.0000 - mean_absolute_error: 36243.0078 - val_loss: 1319494400.0000 - val_mean_absolute_error: 35606.3047\n",
            "Epoch 84/100\n",
            "\u001b[1m10/10\u001b[0m \u001b[32m━━━━━━━━━━━━━━━━━━━━\u001b[0m\u001b[37m\u001b[0m \u001b[1m0s\u001b[0m 10ms/step - loss: 1389024256.0000 - mean_absolute_error: 36508.2617 - val_loss: 1301174912.0000 - val_mean_absolute_error: 35367.2852\n",
            "Epoch 85/100\n",
            "\u001b[1m10/10\u001b[0m \u001b[32m━━━━━━━━━━━━━━━━━━━━\u001b[0m\u001b[37m\u001b[0m \u001b[1m0s\u001b[0m 10ms/step - loss: 1335949952.0000 - mean_absolute_error: 35723.3867 - val_loss: 1282870144.0000 - val_mean_absolute_error: 35125.8867\n",
            "Epoch 86/100\n",
            "\u001b[1m10/10\u001b[0m \u001b[32m━━━━━━━━━━━━━━━━━━━━\u001b[0m\u001b[37m\u001b[0m \u001b[1m0s\u001b[0m 9ms/step - loss: 1335145984.0000 - mean_absolute_error: 35800.6719 - val_loss: 1264402688.0000 - val_mean_absolute_error: 34880.5391\n",
            "Epoch 87/100\n",
            "\u001b[1m10/10\u001b[0m \u001b[32m━━━━━━━━━━━━━━━━━━━━\u001b[0m\u001b[37m\u001b[0m \u001b[1m0s\u001b[0m 10ms/step - loss: 1283788288.0000 - mean_absolute_error: 35067.7617 - val_loss: 1245945216.0000 - val_mean_absolute_error: 34632.8633\n",
            "Epoch 88/100\n",
            "\u001b[1m10/10\u001b[0m \u001b[32m━━━━━━━━━━━━━━━━━━━━\u001b[0m\u001b[37m\u001b[0m \u001b[1m0s\u001b[0m 11ms/step - loss: 1268905344.0000 - mean_absolute_error: 34921.0234 - val_loss: 1227124736.0000 - val_mean_absolute_error: 34378.8633\n",
            "Epoch 89/100\n",
            "\u001b[1m10/10\u001b[0m \u001b[32m━━━━━━━━━━━━━━━━━━━━\u001b[0m\u001b[37m\u001b[0m \u001b[1m0s\u001b[0m 10ms/step - loss: 1254475776.0000 - mean_absolute_error: 34635.6289 - val_loss: 1208266496.0000 - val_mean_absolute_error: 34122.1680\n",
            "Epoch 90/100\n",
            "\u001b[1m10/10\u001b[0m \u001b[32m━━━━━━━━━━━━━━━━━━━━\u001b[0m\u001b[37m\u001b[0m \u001b[1m0s\u001b[0m 10ms/step - loss: 1257777792.0000 - mean_absolute_error: 34684.7812 - val_loss: 1189361280.0000 - val_mean_absolute_error: 33862.7109\n",
            "Epoch 91/100\n",
            "\u001b[1m10/10\u001b[0m \u001b[32m━━━━━━━━━━━━━━━━━━━━\u001b[0m\u001b[37m\u001b[0m \u001b[1m0s\u001b[0m 11ms/step - loss: 1223861120.0000 - mean_absolute_error: 34346.3359 - val_loss: 1170364160.0000 - val_mean_absolute_error: 33599.0898\n",
            "Epoch 92/100\n",
            "\u001b[1m10/10\u001b[0m \u001b[32m━━━━━━━━━━━━━━━━━━━━\u001b[0m\u001b[37m\u001b[0m \u001b[1m0s\u001b[0m 11ms/step - loss: 1194258048.0000 - mean_absolute_error: 33806.8633 - val_loss: 1151153920.0000 - val_mean_absolute_error: 33330.9219\n",
            "Epoch 93/100\n",
            "\u001b[1m10/10\u001b[0m \u001b[32m━━━━━━━━━━━━━━━━━━━━\u001b[0m\u001b[37m\u001b[0m \u001b[1m0s\u001b[0m 12ms/step - loss: 1188151808.0000 - mean_absolute_error: 33721.0664 - val_loss: 1131897216.0000 - val_mean_absolute_error: 33059.3984\n",
            "Epoch 94/100\n",
            "\u001b[1m10/10\u001b[0m \u001b[32m━━━━━━━━━━━━━━━━━━━━\u001b[0m\u001b[37m\u001b[0m \u001b[1m0s\u001b[0m 10ms/step - loss: 1132895744.0000 - mean_absolute_error: 32950.8828 - val_loss: 1112963968.0000 - val_mean_absolute_error: 32789.1758\n",
            "Epoch 95/100\n",
            "\u001b[1m10/10\u001b[0m \u001b[32m━━━━━━━━━━━━━━━━━━━━\u001b[0m\u001b[37m\u001b[0m \u001b[1m0s\u001b[0m 10ms/step - loss: 1126896896.0000 - mean_absolute_error: 32867.1484 - val_loss: 1093647360.0000 - val_mean_absolute_error: 32511.5898\n",
            "Epoch 96/100\n",
            "\u001b[1m10/10\u001b[0m \u001b[32m━━━━━━━━━━━━━━━━━━━━\u001b[0m\u001b[37m\u001b[0m \u001b[1m0s\u001b[0m 11ms/step - loss: 1119383680.0000 - mean_absolute_error: 32823.5625 - val_loss: 1074303360.0000 - val_mean_absolute_error: 32230.5742\n",
            "Epoch 97/100\n",
            "\u001b[1m10/10\u001b[0m \u001b[32m━━━━━━━━━━━━━━━━━━━━\u001b[0m\u001b[37m\u001b[0m \u001b[1m0s\u001b[0m 10ms/step - loss: 1060775680.0000 - mean_absolute_error: 31975.9453 - val_loss: 1055108608.0000 - val_mean_absolute_error: 31948.4180\n",
            "Epoch 98/100\n",
            "\u001b[1m10/10\u001b[0m \u001b[32m━━━━━━━━━━━━━━━━━━━━\u001b[0m\u001b[37m\u001b[0m \u001b[1m0s\u001b[0m 9ms/step - loss: 1071583744.0000 - mean_absolute_error: 32174.7480 - val_loss: 1035820672.0000 - val_mean_absolute_error: 31662.9121\n",
            "Epoch 99/100\n",
            "\u001b[1m10/10\u001b[0m \u001b[32m━━━━━━━━━━━━━━━━━━━━\u001b[0m\u001b[37m\u001b[0m \u001b[1m0s\u001b[0m 10ms/step - loss: 1077370752.0000 - mean_absolute_error: 32232.4297 - val_loss: 1016275328.0000 - val_mean_absolute_error: 31370.1758\n",
            "Epoch 100/100\n",
            "\u001b[1m10/10\u001b[0m \u001b[32m━━━━━━━━━━━━━━━━━━━━\u001b[0m\u001b[37m\u001b[0m \u001b[1m0s\u001b[0m 10ms/step - loss: 1021210496.0000 - mean_absolute_error: 31471.4062 - val_loss: 997162624.0000 - val_mean_absolute_error: 31080.2305\n"
          ]
        },
        {
          "output_type": "display_data",
          "data": {
            "text/plain": [
              "<Figure size 640x480 with 1 Axes>"
            ],
            "image/png": "[encoded data removed]"
          },
          "metadata": {}
        }
      ]
    },
    {
      "cell_type": "markdown",
      "source": [
        "**✔️ Markdown:**"
      ],
      "metadata": {
        "id": "OxH9ECZA1io3"
      }
    },
    {
      "cell_type": "markdown",
      "source": [
        "Trained for max 100 epochs, with early stopping.\n",
        "\n",
        "Validation split: 20%.\n",
        "\n",
        "Observed training and validation loss trends."
      ],
      "metadata": {
        "id": "0OwzyRuU1oCp"
      }
    },
    {
      "cell_type": "markdown",
      "source": [
        "# **🔹 Step 6: Evaluate the Model**"
      ],
      "metadata": {
        "id": "r6E8Lp1x2mp3"
      }
    },
    {
      "cell_type": "markdown",
      "source": [
        "**✔️ Code:**"
      ],
      "metadata": {
        "id": "hIPBsbzX2pu6"
      }
    },
    {
      "cell_type": "code",
      "source": [
        "from sklearn.metrics import mean_squared_error, mean_absolute_error, r2_score\n",
        "import numpy as np\n",
        "\n",
        "y_pred = model.predict(X_test).flatten()\n",
        "\n",
        "# Evaluation metrics\n",
        "mse = mean_squared_error(y_test, y_pred)\n",
        "mae = mean_absolute_error(y_test, y_pred)\n",
        "r2 = r2_score(y_test, y_pred)\n",
        "\n",
        "print(\"MAE:\", mae)\n",
        "print(\"MSE:\", mse)\n",
        "print(\"R² Score:\", r2)\n",
        "\n",
        "# Plot predicted vs actual\n",
        "plt.scatter(y_test, y_pred, alpha=0.5)\n",
        "plt.xlabel(\"Actual Price\")\n",
        "plt.ylabel(\"Predicted Price\")\n",
        "plt.title(\"Predicted vs Actual Car Purchase Amount\")\n",
        "plt.plot([min(y_test), max(y_test)], [min(y_test), max(y_test)], color='red')\n",
        "plt.show()"
      ],
      "metadata": {
        "colab": {
          "base_uri": "https://localhost:8080/",
          "height": 541
        },
        "id": "OUHB20PM22Du",
        "outputId": "1ca65dd4-85fc-48b2-e391-60341da5630a"
      },
      "execution_count": null,
      "outputs": [
        {
          "output_type": "stream",
          "name": "stdout",
          "text": [
            "\u001b[1m4/4\u001b[0m \u001b[32m━━━━━━━━━━━━━━━━━━━━\u001b[0m\u001b[37m\u001b[0m \u001b[1m0s\u001b[0m 20ms/step\n",
            "MAE: 32072.920075207814\n",
            "MSE: 1059886072.0752984\n",
            "R² Score: -8.816199478095735\n"
          ]
        },
        {
          "output_type": "display_data",
          "data": {
            "text/plain": [
              "<Figure size 640x480 with 1 Axes>"
            ],
            "image/png": "[encoded data removed]"
          },
          "metadata": {}
        }
      ]
    },
    {
      "cell_type": "markdown",
      "source": [
        "**✔️ Markdown:**"
      ],
      "metadata": {
        "id": "j9fWuwRg3Bru"
      }
    },
    {
      "cell_type": "markdown",
      "source": [
        "MAE, MSE, and R² provide insights into model accuracy.\n",
        "\n",
        "Scatter plot shows prediction alignment with actual prices."
      ],
      "metadata": {
        "id": "-ART5jfp3IKI"
      }
    },
    {
      "cell_type": "markdown",
      "source": [
        "# **🔹 Step 7: Make Predictions**"
      ],
      "metadata": {
        "id": "45oiSxCC3ONg"
      }
    },
    {
      "cell_type": "markdown",
      "source": [
        "**✔️ Code:**"
      ],
      "metadata": {
        "id": "jTDgEl3u396m"
      }
    },
    {
      "cell_type": "code",
      "source": [
        "from sklearn.preprocessing import StandardScaler, LabelEncoder\n",
        "from sklearn.model_selection import train_test_split\n",
        "\n",
        "# Print columns to verify\n",
        "print(\"Columns before dropping:\", df.columns.tolist())\n",
        "\n",
        "# Drop personal identifiers\n",
        "# Corrected column names to match the actual column names in the DataFrame\n",
        "# Check the print output above for the correct column name for phone number\n",
        "# Assuming the correct name is 'customer phone', based on the commented out code\n",
        "# Correcting the column name 'customer phone number' to 'customer phone'\n",
        "# Based on the error, the column name is likely 'customer phone' not 'customer phone number'\n",
        "# Let's change 'customer phone number' to 'customer phone' in the drop list\n",
        "# Based on the KeyError, the column names 'customer name' and 'customer e-mail' are incorrect.\n",
        "# Check the output of the previous print statement and replace the list below\n",
        "# with the actual column names for customer name and email in your DataFrame.\n",
        "# Example: If the columns were actually named 'Customer Name' and 'Customer Email'\n",
        "# df = df.drop(['Customer Name', 'Customer Email'], axis=1)\n",
        "# As the original code suggests 'customer phone' might be a column, let's also consider if\n",
        "# a 'customer phone' column exists and should be dropped.\n",
        "# Let's assume the column names are 'Customer Name' and 'Customer e-mail' for demonstration.\n",
        "# YOU MUST VERIFY THE EXACT NAMES FROM YOUR PRINT OUTPUT.\n",
        "df = df.drop(['Customer Name', 'Customer e-mail'], axis=1, errors='ignore') # Added errors='ignore' to prevent crash if columns are already dropped\n",
        "\n",
        "# Encode categorical variables\n",
        "label_encoders = {}\n",
        "# Assuming 'country', 'gender', 'Car Make', and 'Car Model' are the categorical columns to encode\n",
        "# Added 'Car Make' and 'Car Model' to the list of columns to encode\n",
        "for col in ['country', 'gender', 'Car Make', 'Car Model']: # Updated columns to encode\n",
        "    # Check if the column exists before encoding\n",
        "    if col in df.columns:\n",
        "        le = LabelEncoder()\n",
        "        df[col] = le.fit_transform(df[col])\n",
        "        label_encoders[col] = le\n",
        "    else:\n",
        "        print(f\"Warning: Column '{col}' not found in DataFrame for encoding.\")\n",
        "\n",
        "\n",
        "# Features and target\n",
        "X = df.drop('car purchase amount', axis=1) # Corrected target column name\n",
        "y = df['car purchase amount'] # Corrected target column name\n",
        "\n",
        "# Scale numerical features\n",
        "scaler = StandardScaler()\n",
        "X_scaled = scaler.fit_transform(X)\n",
        "\n",
        "# Train-test split\n",
        "X_train, X_test, y_train, y_test = train_test_split(X_scaled, y, test_size=0.2, random_state=42)"
      ],
      "metadata": {
        "colab": {
          "base_uri": "https://localhost:8080/"
        },
        "id": "Y71yxKXs4pp6",
        "outputId": "b13ae798-d316-4793-8bdc-19bb037a87ca"
      },
      "execution_count": null,
      "outputs": [
        {
          "output_type": "stream",
          "name": "stdout",
          "text": [
            "Columns before dropping: ['country', 'gender', 'age', 'annual Salary', 'credit card debt', 'net worth', 'car purchase amount']\n",
            "Warning: Column 'Car Make' not found in DataFrame for encoding.\n",
            "Warning: Column 'Car Model' not found in DataFrame for encoding.\n"
          ]
        }
      ]
    },
    {
      "cell_type": "markdown",
      "source": [
        "## **✔️ Markdown:**"
      ],
      "metadata": {
        "id": "j3XLsJVt5Bs-"
      }
    },
    {
      "cell_type": "markdown",
      "source": [
        "Demonstrated prediction on a new input. Manually encoded and scaled features to match training format."
      ],
      "metadata": {
        "id": "136TIH7r5GG6"
      }
    },
    {
      "cell_type": "markdown",
      "source": [
        "# **📈 Bonus**"
      ],
      "metadata": {
        "id": "OEMa_WBy6IxZ"
      }
    },
    {
      "cell_type": "markdown",
      "source": [
        "**Network Architecture Experimentation**"
      ],
      "metadata": {
        "id": "CxgLS3WQ6Ws_"
      }
    },
    {
      "cell_type": "markdown",
      "source": [
        "# **✅ Goal**"
      ],
      "metadata": {
        "id": "HJVBnC-e6lGK"
      }
    },
    {
      "cell_type": "markdown",
      "source": [
        "Try adding more layers and neurons, and compare the performance with the original model."
      ],
      "metadata": {
        "id": "HrmBwBct62QB"
      }
    },
    {
      "cell_type": "markdown",
      "source": [
        "# **🔁 Step 1: Modify the ANN Architecture**"
      ],
      "metadata": {
        "id": "d2JUP2g069Jn"
      }
    },
    {
      "cell_type": "markdown",
      "source": [
        "**✔️ New Architecture**"
      ],
      "metadata": {
        "id": "jN4kr9qD7MoZ"
      }
    },
    {
      "cell_type": "code",
      "source": [
        "# New architecture with more layers and neurons\n",
        "model_bonus = Sequential([\n",
        "    Dense(128, input_dim=X_train.shape[1], activation='relu'),\n",
        "    Dense(64, activation='relu'),\n",
        "    Dense(32, activation='relu'),\n",
        "    Dense(1, activation='linear')\n",
        "])"
      ],
      "metadata": {
        "colab": {
          "base_uri": "https://localhost:8080/"
        },
        "id": "uiGmM-bE7Zak",
        "outputId": "898e4140-b97a-4d3c-f758-4f5f083dca26"
      },
      "execution_count": null,
      "outputs": [
        {
          "output_type": "stream",
          "name": "stderr",
          "text": [
            "/usr/local/lib/python3.11/dist-packages/keras/src/layers/core/dense.py:87: UserWarning: Do not pass an `input_shape`/`input_dim` argument to a layer. When using Sequential models, prefer using an `Input(shape)` object as the first layer in the model instead.\n",
            "  super().__init__(activity_regularizer=activity_regularizer, **kwargs)\n"
          ]
        }
      ]
    },
    {
      "cell_type": "markdown",
      "source": [
        "# **⚙️ Step 2: Compile the New Model**"
      ],
      "metadata": {
        "id": "kUA8PiBR-GRp"
      }
    },
    {
      "cell_type": "code",
      "source": [
        "model_bonus.compile(optimizer='adam', loss='mean_squared_error', metrics=['mean_absolute_error'])"
      ],
      "metadata": {
        "id": "xfG1WdzU-Y4m"
      },
      "execution_count": null,
      "outputs": []
    },
    {
      "cell_type": "markdown",
      "source": [
        "# **🏋️ Step 3: Train the New Model**"
      ],
      "metadata": {
        "id": "9zyjqJDk-paZ"
      }
    },
    {
      "cell_type": "code",
      "source": [
        "early_stop_bonus = EarlyStopping(monitor='val_loss', patience=10)\n",
        "\n",
        "history_bonus = model_bonus.fit(\n",
        "    X_train, y_train,\n",
        "    validation_split=0.2,\n",
        "    epochs=100,\n",
        "    callbacks=[early_stop_bonus],\n",
        "    verbose=1\n",
        ")\n",
        "\n",
        "# Plot training vs validation loss\n",
        "plt.plot(history_bonus.history['loss'], label='Train Loss')\n",
        "plt.plot(history_bonus.history['val_loss'], label='Val Loss')\n",
        "plt.title('Bonus Model: Training vs Validation Loss')\n",
        "plt.xlabel('Epochs')\n",
        "plt.ylabel('Loss')\n",
        "plt.legend()\n",
        "plt.show()"
      ],
      "metadata": {
        "colab": {
          "base_uri": "https://localhost:8080/",
          "height": 1000
        },
        "id": "k6xmDPqU_DAG",
        "outputId": "cafa21ff-d5a1-43f1-c2c2-575dca4e4d68"
      },
      "execution_count": null,
      "outputs": [
        {
          "output_type": "stream",
          "name": "stdout",
          "text": [
            "Epoch 1/100\n",
            "\u001b[1m10/10\u001b[0m \u001b[32m━━━━━━━━━━━━━━━━━━━━\u001b[0m\u001b[37m\u001b[0m \u001b[1m2s\u001b[0m 47ms/step - loss: 1987261952.0000 - mean_absolute_error: 43158.8984 - val_loss: 1938709888.0000 - val_mean_absolute_error: 42925.7617\n",
            "Epoch 2/100\n",
            "\u001b[1m10/10\u001b[0m \u001b[32m━━━━━━━━━━━━━━━━━━━━\u001b[0m\u001b[37m\u001b[0m \u001b[1m0s\u001b[0m 17ms/step - loss: 2128287104.0000 - mean_absolute_error: 44712.2656 - val_loss: 1938676480.0000 - val_mean_absolute_error: 42925.3633\n",
            "Epoch 3/100\n",
            "\u001b[1m10/10\u001b[0m \u001b[32m━━━━━━━━━━━━━━━━━━━━\u001b[0m\u001b[37m\u001b[0m \u001b[1m0s\u001b[0m 19ms/step - loss: 2094115328.0000 - mean_absolute_error: 44501.7188 - val_loss: 1938618368.0000 - val_mean_absolute_error: 42924.6797\n",
            "Epoch 4/100\n",
            "\u001b[1m10/10\u001b[0m \u001b[32m━━━━━━━━━━━━━━━━━━━━\u001b[0m\u001b[37m\u001b[0m \u001b[1m0s\u001b[0m 21ms/step - loss: 2152955136.0000 - mean_absolute_error: 45070.0859 - val_loss: 1938500992.0000 - val_mean_absolute_error: 42923.3125\n",
            "Epoch 5/100\n",
            "\u001b[1m10/10\u001b[0m \u001b[32m━━━━━━━━━━━━━━━━━━━━\u001b[0m\u001b[37m\u001b[0m \u001b[1m0s\u001b[0m 14ms/step - loss: 2083049216.0000 - mean_absolute_error: 44405.2695 - val_loss: 1938271488.0000 - val_mean_absolute_error: 42920.6484\n",
            "Epoch 6/100\n",
            "\u001b[1m10/10\u001b[0m \u001b[32m━━━━━━━━━━━━━━━━━━━━\u001b[0m\u001b[37m\u001b[0m \u001b[1m0s\u001b[0m 10ms/step - loss: 2041130112.0000 - mean_absolute_error: 43696.5039 - val_loss: 1937851648.0000 - val_mean_absolute_error: 42915.8086\n",
            "Epoch 7/100\n",
            "\u001b[1m10/10\u001b[0m \u001b[32m━━━━━━━━━━━━━━━━━━━━\u001b[0m\u001b[37m\u001b[0m \u001b[1m0s\u001b[0m 10ms/step - loss: 2101365376.0000 - mean_absolute_error: 44491.1094 - val_loss: 1937127424.0000 - val_mean_absolute_error: 42907.5000\n",
            "Epoch 8/100\n",
            "\u001b[1m10/10\u001b[0m \u001b[32m━━━━━━━━━━━━━━━━━━━━\u001b[0m\u001b[37m\u001b[0m \u001b[1m0s\u001b[0m 10ms/step - loss: 1981702912.0000 - mean_absolute_error: 43240.5469 - val_loss: 1935950080.0000 - val_mean_absolute_error: 42894.0312\n",
            "Epoch 9/100\n",
            "\u001b[1m10/10\u001b[0m \u001b[32m━━━━━━━━━━━━━━━━━━━━\u001b[0m\u001b[37m\u001b[0m \u001b[1m0s\u001b[0m 10ms/step - loss: 2121860864.0000 - mean_absolute_error: 44710.9648 - val_loss: 1934101504.0000 - val_mean_absolute_error: 42873.0117\n",
            "Epoch 10/100\n",
            "\u001b[1m10/10\u001b[0m \u001b[32m━━━━━━━━━━━━━━━━━━━━\u001b[0m\u001b[37m\u001b[0m \u001b[1m0s\u001b[0m 11ms/step - loss: 2059421312.0000 - mean_absolute_error: 44189.2344 - val_loss: 1931318528.0000 - val_mean_absolute_error: 42841.4609\n",
            "Epoch 11/100\n",
            "\u001b[1m10/10\u001b[0m \u001b[32m━━━━━━━━━━━━━━━━━━━━\u001b[0m\u001b[37m\u001b[0m \u001b[1m0s\u001b[0m 11ms/step - loss: 1990649216.0000 - mean_absolute_error: 43250.7812 - val_loss: 1927315456.0000 - val_mean_absolute_error: 42796.1562\n",
            "Epoch 12/100\n",
            "\u001b[1m10/10\u001b[0m \u001b[32m━━━━━━━━━━━━━━━━━━━━\u001b[0m\u001b[37m\u001b[0m \u001b[1m0s\u001b[0m 12ms/step - loss: 2045287424.0000 - mean_absolute_error: 43875.6094 - val_loss: 1921691648.0000 - val_mean_absolute_error: 42732.8125\n",
            "Epoch 13/100\n",
            "\u001b[1m10/10\u001b[0m \u001b[32m━━━━━━━━━━━━━━━━━━━━\u001b[0m\u001b[37m\u001b[0m \u001b[1m0s\u001b[0m 10ms/step - loss: 2084538240.0000 - mean_absolute_error: 44183.4219 - val_loss: 1914014464.0000 - val_mean_absolute_error: 42646.5508\n",
            "Epoch 14/100\n",
            "\u001b[1m10/10\u001b[0m \u001b[32m━━━━━━━━━━━━━━━━━━━━\u001b[0m\u001b[37m\u001b[0m \u001b[1m0s\u001b[0m 11ms/step - loss: 2141418496.0000 - mean_absolute_error: 44940.1367 - val_loss: 1903787264.0000 - val_mean_absolute_error: 42531.7617\n",
            "Epoch 15/100\n",
            "\u001b[1m10/10\u001b[0m \u001b[32m━━━━━━━━━━━━━━━━━━━━\u001b[0m\u001b[37m\u001b[0m \u001b[1m0s\u001b[0m 10ms/step - loss: 2003577856.0000 - mean_absolute_error: 43383.9102 - val_loss: 1890528640.0000 - val_mean_absolute_error: 42382.6016\n",
            "Epoch 16/100\n",
            "\u001b[1m10/10\u001b[0m \u001b[32m━━━━━━━━━━━━━━━━━━━━\u001b[0m\u001b[37m\u001b[0m \u001b[1m0s\u001b[0m 11ms/step - loss: 2070717056.0000 - mean_absolute_error: 44158.6172 - val_loss: 1873499520.0000 - val_mean_absolute_error: 42191.5430\n",
            "Epoch 17/100\n",
            "\u001b[1m10/10\u001b[0m \u001b[32m━━━━━━━━━━━━━━━━━━━━\u001b[0m\u001b[37m\u001b[0m \u001b[1m0s\u001b[0m 12ms/step - loss: 2019831040.0000 - mean_absolute_error: 43581.2695 - val_loss: 1852282240.0000 - val_mean_absolute_error: 41952.0625\n",
            "Epoch 18/100\n",
            "\u001b[1m10/10\u001b[0m \u001b[32m━━━━━━━━━━━━━━━━━━━━\u001b[0m\u001b[37m\u001b[0m \u001b[1m0s\u001b[0m 10ms/step - loss: 1957418880.0000 - mean_absolute_error: 42885.9609 - val_loss: 1826215552.0000 - val_mean_absolute_error: 41656.9609\n",
            "Epoch 19/100\n",
            "\u001b[1m10/10\u001b[0m \u001b[32m━━━━━━━━━━━━━━━━━━━━\u001b[0m\u001b[37m\u001b[0m \u001b[1m0s\u001b[0m 10ms/step - loss: 1935061376.0000 - mean_absolute_error: 42775.6758 - val_loss: 1794648832.0000 - val_mean_absolute_error: 41297.4062\n",
            "Epoch 20/100\n",
            "\u001b[1m10/10\u001b[0m \u001b[32m━━━━━━━━━━━━━━━━━━━━\u001b[0m\u001b[37m\u001b[0m \u001b[1m0s\u001b[0m 10ms/step - loss: 1904255360.0000 - mean_absolute_error: 42416.8906 - val_loss: 1756969216.0000 - val_mean_absolute_error: 40865.1406\n",
            "Epoch 21/100\n",
            "\u001b[1m10/10\u001b[0m \u001b[32m━━━━━━━━━━━━━━━━━━━━\u001b[0m\u001b[37m\u001b[0m \u001b[1m0s\u001b[0m 10ms/step - loss: 1901593472.0000 - mean_absolute_error: 42260.7070 - val_loss: 1712294656.0000 - val_mean_absolute_error: 40348.3008\n",
            "Epoch 22/100\n",
            "\u001b[1m10/10\u001b[0m \u001b[32m━━━━━━━━━━━━━━━━━━━━\u001b[0m\u001b[37m\u001b[0m \u001b[1m0s\u001b[0m 10ms/step - loss: 1755791616.0000 - mean_absolute_error: 40675.4883 - val_loss: 1660780928.0000 - val_mean_absolute_error: 39743.5938\n",
            "Epoch 23/100\n",
            "\u001b[1m10/10\u001b[0m \u001b[32m━━━━━━━━━━━━━━━━━━━━\u001b[0m\u001b[37m\u001b[0m \u001b[1m0s\u001b[0m 10ms/step - loss: 1753264256.0000 - mean_absolute_error: 40609.5781 - val_loss: 1601371392.0000 - val_mean_absolute_error: 39036.6719\n",
            "Epoch 24/100\n",
            "\u001b[1m10/10\u001b[0m \u001b[32m━━━━━━━━━━━━━━━━━━━━\u001b[0m\u001b[37m\u001b[0m \u001b[1m0s\u001b[0m 10ms/step - loss: 1659539456.0000 - mean_absolute_error: 39620.8945 - val_loss: 1534276480.0000 - val_mean_absolute_error: 38222.6836\n",
            "Epoch 25/100\n",
            "\u001b[1m10/10\u001b[0m \u001b[32m━━━━━━━━━━━━━━━━━━━━\u001b[0m\u001b[37m\u001b[0m \u001b[1m0s\u001b[0m 10ms/step - loss: 1639295488.0000 - mean_absolute_error: 39402.9727 - val_loss: 1458442112.0000 - val_mean_absolute_error: 37283.6914\n",
            "Epoch 26/100\n",
            "\u001b[1m10/10\u001b[0m \u001b[32m━━━━━━━━━━━━━━━━━━━━\u001b[0m\u001b[37m\u001b[0m \u001b[1m0s\u001b[0m 10ms/step - loss: 1476172672.0000 - mean_absolute_error: 37359.1836 - val_loss: 1376561024.0000 - val_mean_absolute_error: 36237.7969\n",
            "Epoch 27/100\n",
            "\u001b[1m10/10\u001b[0m \u001b[32m━━━━━━━━━━━━━━━━━━━━\u001b[0m\u001b[37m\u001b[0m \u001b[1m0s\u001b[0m 10ms/step - loss: 1409339392.0000 - mean_absolute_error: 36506.7852 - val_loss: 1286272640.0000 - val_mean_absolute_error: 35050.1016\n",
            "Epoch 28/100\n",
            "\u001b[1m10/10\u001b[0m \u001b[32m━━━━━━━━━━━━━━━━━━━━\u001b[0m\u001b[37m\u001b[0m \u001b[1m0s\u001b[0m 9ms/step - loss: 1316972032.0000 - mean_absolute_error: 35317.8242 - val_loss: 1188946816.0000 - val_mean_absolute_error: 33722.2461\n",
            "Epoch 29/100\n",
            "\u001b[1m10/10\u001b[0m \u001b[32m━━━━━━━━━━━━━━━━━━━━\u001b[0m\u001b[37m\u001b[0m \u001b[1m0s\u001b[0m 10ms/step - loss: 1194888576.0000 - mean_absolute_error: 33753.8203 - val_loss: 1086677760.0000 - val_mean_absolute_error: 32263.5879\n",
            "Epoch 30/100\n",
            "\u001b[1m10/10\u001b[0m \u001b[32m━━━━━━━━━━━━━━━━━━━━\u001b[0m\u001b[37m\u001b[0m \u001b[1m0s\u001b[0m 9ms/step - loss: 1106416512.0000 - mean_absolute_error: 32489.3438 - val_loss: 979741312.0000 - val_mean_absolute_error: 30660.6621\n",
            "Epoch 31/100\n",
            "\u001b[1m10/10\u001b[0m \u001b[32m━━━━━━━━━━━━━━━━━━━━\u001b[0m\u001b[37m\u001b[0m \u001b[1m0s\u001b[0m 14ms/step - loss: 967425472.0000 - mean_absolute_error: 30428.7227 - val_loss: 871745152.0000 - val_mean_absolute_error: 28942.1660\n",
            "Epoch 32/100\n",
            "\u001b[1m10/10\u001b[0m \u001b[32m━━━━━━━━━━━━━━━━━━━━\u001b[0m\u001b[37m\u001b[0m \u001b[1m0s\u001b[0m 9ms/step - loss: 868473536.0000 - mean_absolute_error: 28777.1309 - val_loss: 762790208.0000 - val_mean_absolute_error: 27091.1250\n",
            "Epoch 33/100\n",
            "\u001b[1m10/10\u001b[0m \u001b[32m━━━━━━━━━━━━━━━━━━━━\u001b[0m\u001b[37m\u001b[0m \u001b[1m0s\u001b[0m 10ms/step - loss: 722370304.0000 - mean_absolute_error: 26270.2930 - val_loss: 656740352.0000 - val_mean_absolute_error: 25143.0371\n",
            "Epoch 34/100\n",
            "\u001b[1m10/10\u001b[0m \u001b[32m━━━━━━━━━━━━━━━━━━━━\u001b[0m\u001b[37m\u001b[0m \u001b[1m0s\u001b[0m 10ms/step - loss: 629209856.0000 - mean_absolute_error: 24571.4023 - val_loss: 555679104.0000 - val_mean_absolute_error: 23115.5820\n",
            "Epoch 35/100\n",
            "\u001b[1m10/10\u001b[0m \u001b[32m━━━━━━━━━━━━━━━━━━━━\u001b[0m\u001b[37m\u001b[0m \u001b[1m0s\u001b[0m 11ms/step - loss: 501734784.0000 - mean_absolute_error: 21856.1133 - val_loss: 461384384.0000 - val_mean_absolute_error: 21027.7363\n",
            "Epoch 36/100\n",
            "\u001b[1m10/10\u001b[0m \u001b[32m━━━━━━━━━━━━━━━━━━━━\u001b[0m\u001b[37m\u001b[0m \u001b[1m0s\u001b[0m 10ms/step - loss: 436211232.0000 - mean_absolute_error: 20347.9922 - val_loss: 375913056.0000 - val_mean_absolute_error: 18924.0625\n",
            "Epoch 37/100\n",
            "\u001b[1m10/10\u001b[0m \u001b[32m━━━━━━━━━━━━━━━━━━━━\u001b[0m\u001b[37m\u001b[0m \u001b[1m0s\u001b[0m 10ms/step - loss: 323866720.0000 - mean_absolute_error: 17330.9473 - val_loss: 301976544.0000 - val_mean_absolute_error: 16883.2598\n",
            "Epoch 38/100\n",
            "\u001b[1m10/10\u001b[0m \u001b[32m━━━━━━━━━━━━━━━━━━━━\u001b[0m\u001b[37m\u001b[0m \u001b[1m0s\u001b[0m 11ms/step - loss: 270616768.0000 - mean_absolute_error: 15589.7881 - val_loss: 238563760.0000 - val_mean_absolute_error: 14884.3799\n",
            "Epoch 39/100\n",
            "\u001b[1m10/10\u001b[0m \u001b[32m━━━━━━━━━━━━━━━━━━━━\u001b[0m\u001b[37m\u001b[0m \u001b[1m0s\u001b[0m 10ms/step - loss: 206774448.0000 - mean_absolute_error: 13263.1084 - val_loss: 187221584.0000 - val_mean_absolute_error: 13016.6143\n",
            "Epoch 40/100\n",
            "\u001b[1m10/10\u001b[0m \u001b[32m━━━━━━━━━━━━━━━━━━━━\u001b[0m\u001b[37m\u001b[0m \u001b[1m0s\u001b[0m 10ms/step - loss: 161273184.0000 - mean_absolute_error: 11403.8398 - val_loss: 146238448.0000 - val_mean_absolute_error: 11311.9082\n",
            "Epoch 41/100\n",
            "\u001b[1m10/10\u001b[0m \u001b[32m━━━━━━━━━━━━━━━━━━━━\u001b[0m\u001b[37m\u001b[0m \u001b[1m0s\u001b[0m 10ms/step - loss: 130583920.0000 - mean_absolute_error: 10004.1953 - val_loss: 114386752.0000 - val_mean_absolute_error: 9827.5518\n",
            "Epoch 42/100\n",
            "\u001b[1m10/10\u001b[0m \u001b[32m━━━━━━━━━━━━━━━━━━━━\u001b[0m\u001b[37m\u001b[0m \u001b[1m0s\u001b[0m 10ms/step - loss: 105607008.0000 - mean_absolute_error: 8967.4639 - val_loss: 90538632.0000 - val_mean_absolute_error: 8561.0283\n",
            "Epoch 43/100\n",
            "\u001b[1m10/10\u001b[0m \u001b[32m━━━━━━━━━━━━━━━━━━━━\u001b[0m\u001b[37m\u001b[0m \u001b[1m0s\u001b[0m 10ms/step - loss: 88687424.0000 - mean_absolute_error: 8096.0693 - val_loss: 72913136.0000 - val_mean_absolute_error: 7564.2080\n",
            "Epoch 44/100\n",
            "\u001b[1m10/10\u001b[0m \u001b[32m━━━━━━━━━━━━━━━━━━━━\u001b[0m\u001b[37m\u001b[0m \u001b[1m0s\u001b[0m 10ms/step - loss: 74725904.0000 - mean_absolute_error: 7409.7549 - val_loss: 60075816.0000 - val_mean_absolute_error: 6745.0039\n",
            "Epoch 45/100\n",
            "\u001b[1m10/10\u001b[0m \u001b[32m━━━━━━━━━━━━━━━━━━━━\u001b[0m\u001b[37m\u001b[0m \u001b[1m0s\u001b[0m 10ms/step - loss: 64849592.0000 - mean_absolute_error: 6850.9272 - val_loss: 50448664.0000 - val_mean_absolute_error: 6077.5366\n",
            "Epoch 46/100\n",
            "\u001b[1m10/10\u001b[0m \u001b[32m━━━━━━━━━━━━━━━━━━━━\u001b[0m\u001b[37m\u001b[0m \u001b[1m0s\u001b[0m 10ms/step - loss: 53471764.0000 - mean_absolute_error: 6191.7061 - val_loss: 43381280.0000 - val_mean_absolute_error: 5531.9028\n",
            "Epoch 47/100\n",
            "\u001b[1m10/10\u001b[0m \u001b[32m━━━━━━━━━━━━━━━━━━━━\u001b[0m\u001b[37m\u001b[0m \u001b[1m0s\u001b[0m 10ms/step - loss: 51222116.0000 - mean_absolute_error: 5973.3467 - val_loss: 38201320.0000 - val_mean_absolute_error: 5119.2300\n",
            "Epoch 48/100\n",
            "\u001b[1m10/10\u001b[0m \u001b[32m━━━━━━━━━━━━━━━━━━━━\u001b[0m\u001b[37m\u001b[0m \u001b[1m0s\u001b[0m 11ms/step - loss: 45278628.0000 - mean_absolute_error: 5752.6284 - val_loss: 34359252.0000 - val_mean_absolute_error: 4809.1509\n",
            "Epoch 49/100\n",
            "\u001b[1m10/10\u001b[0m \u001b[32m━━━━━━━━━━━━━━━━━━━━\u001b[0m\u001b[37m\u001b[0m \u001b[1m0s\u001b[0m 10ms/step - loss: 48491808.0000 - mean_absolute_error: 5808.8252 - val_loss: 31127828.0000 - val_mean_absolute_error: 4528.2363\n",
            "Epoch 50/100\n",
            "\u001b[1m10/10\u001b[0m \u001b[32m━━━━━━━━━━━━━━━━━━━━\u001b[0m\u001b[37m\u001b[0m \u001b[1m0s\u001b[0m 11ms/step - loss: 41924328.0000 - mean_absolute_error: 5428.4541 - val_loss: 28764436.0000 - val_mean_absolute_error: 4329.6279\n",
            "Epoch 51/100\n",
            "\u001b[1m10/10\u001b[0m \u001b[32m━━━━━━━━━━━━━━━━━━━━\u001b[0m\u001b[37m\u001b[0m \u001b[1m0s\u001b[0m 11ms/step - loss: 37303080.0000 - mean_absolute_error: 5075.0596 - val_loss: 27003408.0000 - val_mean_absolute_error: 4184.0459\n",
            "Epoch 52/100\n",
            "\u001b[1m10/10\u001b[0m \u001b[32m━━━━━━━━━━━━━━━━━━━━\u001b[0m\u001b[37m\u001b[0m \u001b[1m0s\u001b[0m 11ms/step - loss: 37834724.0000 - mean_absolute_error: 5068.8032 - val_loss: 25660012.0000 - val_mean_absolute_error: 4066.4790\n",
            "Epoch 53/100\n",
            "\u001b[1m10/10\u001b[0m \u001b[32m━━━━━━━━━━━━━━━━━━━━\u001b[0m\u001b[37m\u001b[0m \u001b[1m0s\u001b[0m 10ms/step - loss: 39036492.0000 - mean_absolute_error: 5132.0103 - val_loss: 24669054.0000 - val_mean_absolute_error: 3979.0825\n",
            "Epoch 54/100\n",
            "\u001b[1m10/10\u001b[0m \u001b[32m━━━━━━━━━━━━━━━━━━━━\u001b[0m\u001b[37m\u001b[0m \u001b[1m0s\u001b[0m 10ms/step - loss: 33941472.0000 - mean_absolute_error: 4826.4668 - val_loss: 23774240.0000 - val_mean_absolute_error: 3892.5396\n",
            "Epoch 55/100\n",
            "\u001b[1m10/10\u001b[0m \u001b[32m━━━━━━━━━━━━━━━━━━━━\u001b[0m\u001b[37m\u001b[0m \u001b[1m0s\u001b[0m 10ms/step - loss: 32169292.0000 - mean_absolute_error: 4682.3267 - val_loss: 23063874.0000 - val_mean_absolute_error: 3821.1797\n",
            "Epoch 56/100\n",
            "\u001b[1m10/10\u001b[0m \u001b[32m━━━━━━━━━━━━━━━━━━━━\u001b[0m\u001b[37m\u001b[0m \u001b[1m0s\u001b[0m 10ms/step - loss: 28676458.0000 - mean_absolute_error: 4371.8208 - val_loss: 22537584.0000 - val_mean_absolute_error: 3776.2632\n",
            "Epoch 57/100\n",
            "\u001b[1m10/10\u001b[0m \u001b[32m━━━━━━━━━━━━━━━━━━━━\u001b[0m\u001b[37m\u001b[0m \u001b[1m0s\u001b[0m 10ms/step - loss: 32792258.0000 - mean_absolute_error: 4675.1323 - val_loss: 22135894.0000 - val_mean_absolute_error: 3741.1633\n",
            "Epoch 58/100\n",
            "\u001b[1m10/10\u001b[0m \u001b[32m━━━━━━━━━━━━━━━━━━━━\u001b[0m\u001b[37m\u001b[0m \u001b[1m0s\u001b[0m 10ms/step - loss: 32151502.0000 - mean_absolute_error: 4658.7715 - val_loss: 21716828.0000 - val_mean_absolute_error: 3695.8430\n",
            "Epoch 59/100\n",
            "\u001b[1m10/10\u001b[0m \u001b[32m━━━━━━━━━━━━━━━━━━━━\u001b[0m\u001b[37m\u001b[0m \u001b[1m0s\u001b[0m 10ms/step - loss: 29832626.0000 - mean_absolute_error: 4407.3569 - val_loss: 21413096.0000 - val_mean_absolute_error: 3669.5684\n",
            "Epoch 60/100\n",
            "\u001b[1m10/10\u001b[0m \u001b[32m━━━━━━━━━━━━━━━━━━━━\u001b[0m\u001b[37m\u001b[0m \u001b[1m0s\u001b[0m 10ms/step - loss: 31988042.0000 - mean_absolute_error: 4674.6152 - val_loss: 21192572.0000 - val_mean_absolute_error: 3653.1753\n",
            "Epoch 61/100\n",
            "\u001b[1m10/10\u001b[0m \u001b[32m━━━━━━━━━━━━━━━━━━━━\u001b[0m\u001b[37m\u001b[0m \u001b[1m0s\u001b[0m 10ms/step - loss: 26752234.0000 - mean_absolute_error: 4203.2310 - val_loss: 20951012.0000 - val_mean_absolute_error: 3629.0269\n",
            "Epoch 62/100\n",
            "\u001b[1m10/10\u001b[0m \u001b[32m━━━━━━━━━━━━━━━━━━━━\u001b[0m\u001b[37m\u001b[0m \u001b[1m0s\u001b[0m 10ms/step - loss: 29456836.0000 - mean_absolute_error: 4372.8540 - val_loss: 20765672.0000 - val_mean_absolute_error: 3611.8867\n",
            "Epoch 63/100\n",
            "\u001b[1m10/10\u001b[0m \u001b[32m━━━━━━━━━━━━━━━━━━━━\u001b[0m\u001b[37m\u001b[0m \u001b[1m0s\u001b[0m 10ms/step - loss: 29494006.0000 - mean_absolute_error: 4450.1372 - val_loss: 20547658.0000 - val_mean_absolute_error: 3589.1323\n",
            "Epoch 64/100\n",
            "\u001b[1m10/10\u001b[0m \u001b[32m━━━━━━━━━━━━━━━━━━━━\u001b[0m\u001b[37m\u001b[0m \u001b[1m0s\u001b[0m 10ms/step - loss: 27924060.0000 - mean_absolute_error: 4306.8452 - val_loss: 20319628.0000 - val_mean_absolute_error: 3561.8501\n",
            "Epoch 65/100\n",
            "\u001b[1m10/10\u001b[0m \u001b[32m━━━━━━━━━━━━━━━━━━━━\u001b[0m\u001b[37m\u001b[0m \u001b[1m0s\u001b[0m 11ms/step - loss: 26977684.0000 - mean_absolute_error: 4250.8223 - val_loss: 20167136.0000 - val_mean_absolute_error: 3546.2524\n",
            "Epoch 66/100\n",
            "\u001b[1m10/10\u001b[0m \u001b[32m━━━━━━━━━━━━━━━━━━━━\u001b[0m\u001b[37m\u001b[0m \u001b[1m0s\u001b[0m 11ms/step - loss: 26627018.0000 - mean_absolute_error: 4260.0557 - val_loss: 20006652.0000 - val_mean_absolute_error: 3531.7358\n",
            "Epoch 67/100\n",
            "\u001b[1m10/10\u001b[0m \u001b[32m━━━━━━━━━━━━━━━━━━━━\u001b[0m\u001b[37m\u001b[0m \u001b[1m0s\u001b[0m 12ms/step - loss: 26756124.0000 - mean_absolute_error: 4170.5615 - val_loss: 19760586.0000 - val_mean_absolute_error: 3501.9922\n",
            "Epoch 68/100\n",
            "\u001b[1m10/10\u001b[0m \u001b[32m━━━━━━━━━━━━━━━━━━━━\u001b[0m\u001b[37m\u001b[0m \u001b[1m0s\u001b[0m 10ms/step - loss: 26108350.0000 - mean_absolute_error: 4144.1128 - val_loss: 19599836.0000 - val_mean_absolute_error: 3486.1133\n",
            "Epoch 69/100\n",
            "\u001b[1m10/10\u001b[0m \u001b[32m━━━━━━━━━━━━━━━━━━━━\u001b[0m\u001b[37m\u001b[0m \u001b[1m0s\u001b[0m 10ms/step - loss: 28372434.0000 - mean_absolute_error: 4200.0337 - val_loss: 19454890.0000 - val_mean_absolute_error: 3472.5742\n",
            "Epoch 70/100\n",
            "\u001b[1m10/10\u001b[0m \u001b[32m━━━━━━━━━━━━━━━━━━━━\u001b[0m\u001b[37m\u001b[0m \u001b[1m0s\u001b[0m 10ms/step - loss: 25445300.0000 - mean_absolute_error: 4149.6260 - val_loss: 19257612.0000 - val_mean_absolute_error: 3447.3645\n",
            "Epoch 71/100\n",
            "\u001b[1m10/10\u001b[0m \u001b[32m━━━━━━━━━━━━━━━━━━━━\u001b[0m\u001b[37m\u001b[0m \u001b[1m0s\u001b[0m 11ms/step - loss: 23379386.0000 - mean_absolute_error: 3967.2451 - val_loss: 19075036.0000 - val_mean_absolute_error: 3425.4207\n",
            "Epoch 72/100\n",
            "\u001b[1m10/10\u001b[0m \u001b[32m━━━━━━━━━━━━━━━━━━━━\u001b[0m\u001b[37m\u001b[0m \u001b[1m0s\u001b[0m 10ms/step - loss: 21730204.0000 - mean_absolute_error: 3778.6511 - val_loss: 18882704.0000 - val_mean_absolute_error: 3403.4192\n",
            "Epoch 73/100\n",
            "\u001b[1m10/10\u001b[0m \u001b[32m━━━━━━━━━━━━━━━━━━━━\u001b[0m\u001b[37m\u001b[0m \u001b[1m0s\u001b[0m 11ms/step - loss: 23229494.0000 - mean_absolute_error: 3882.2412 - val_loss: 18678976.0000 - val_mean_absolute_error: 3383.3796\n",
            "Epoch 74/100\n",
            "\u001b[1m10/10\u001b[0m \u001b[32m━━━━━━━━━━━━━━━━━━━━\u001b[0m\u001b[37m\u001b[0m \u001b[1m0s\u001b[0m 10ms/step - loss: 21440428.0000 - mean_absolute_error: 3716.5029 - val_loss: 18458580.0000 - val_mean_absolute_error: 3356.6841\n",
            "Epoch 75/100\n",
            "\u001b[1m10/10\u001b[0m \u001b[32m━━━━━━━━━━━━━━━━━━━━\u001b[0m\u001b[37m\u001b[0m \u001b[1m0s\u001b[0m 14ms/step - loss: 20983768.0000 - mean_absolute_error: 3799.1892 - val_loss: 18280444.0000 - val_mean_absolute_error: 3332.4207\n",
            "Epoch 76/100\n",
            "\u001b[1m10/10\u001b[0m \u001b[32m━━━━━━━━━━━━━━━━━━━━\u001b[0m\u001b[37m\u001b[0m \u001b[1m0s\u001b[0m 10ms/step - loss: 21457374.0000 - mean_absolute_error: 3799.2935 - val_loss: 18101002.0000 - val_mean_absolute_error: 3315.1167\n",
            "Epoch 77/100\n",
            "\u001b[1m10/10\u001b[0m \u001b[32m━━━━━━━━━━━━━━━━━━━━\u001b[0m\u001b[37m\u001b[0m \u001b[1m0s\u001b[0m 11ms/step - loss: 22747478.0000 - mean_absolute_error: 3885.3425 - val_loss: 17907476.0000 - val_mean_absolute_error: 3291.5854\n",
            "Epoch 78/100\n",
            "\u001b[1m10/10\u001b[0m \u001b[32m━━━━━━━━━━━━━━━━━━━━\u001b[0m\u001b[37m\u001b[0m \u001b[1m0s\u001b[0m 11ms/step - loss: 22317598.0000 - mean_absolute_error: 3841.5247 - val_loss: 17723724.0000 - val_mean_absolute_error: 3271.7026\n",
            "Epoch 79/100\n",
            "\u001b[1m10/10\u001b[0m \u001b[32m━━━━━━━━━━━━━━━━━━━━\u001b[0m\u001b[37m\u001b[0m \u001b[1m0s\u001b[0m 10ms/step - loss: 21146672.0000 - mean_absolute_error: 3700.9973 - val_loss: 17489804.0000 - val_mean_absolute_error: 3243.2456\n",
            "Epoch 80/100\n",
            "\u001b[1m10/10\u001b[0m \u001b[32m━━━━━━━━━━━━━━━━━━━━\u001b[0m\u001b[37m\u001b[0m \u001b[1m0s\u001b[0m 14ms/step - loss: 19588618.0000 - mean_absolute_error: 3577.1169 - val_loss: 17332372.0000 - val_mean_absolute_error: 3231.2449\n",
            "Epoch 81/100\n",
            "\u001b[1m10/10\u001b[0m \u001b[32m━━━━━━━━━━━━━━━━━━━━\u001b[0m\u001b[37m\u001b[0m \u001b[1m0s\u001b[0m 16ms/step - loss: 22416360.0000 - mean_absolute_error: 3795.1013 - val_loss: 17145438.0000 - val_mean_absolute_error: 3210.3411\n",
            "Epoch 82/100\n",
            "\u001b[1m10/10\u001b[0m \u001b[32m━━━━━━━━━━━━━━━━━━━━\u001b[0m\u001b[37m\u001b[0m \u001b[1m0s\u001b[0m 17ms/step - loss: 24008740.0000 - mean_absolute_error: 3965.3208 - val_loss: 16939294.0000 - val_mean_absolute_error: 3185.3364\n",
            "Epoch 83/100\n",
            "\u001b[1m10/10\u001b[0m \u001b[32m━━━━━━━━━━━━━━━━━━━━\u001b[0m\u001b[37m\u001b[0m \u001b[1m0s\u001b[0m 17ms/step - loss: 23050340.0000 - mean_absolute_error: 3955.2761 - val_loss: 16747120.0000 - val_mean_absolute_error: 3161.8357\n",
            "Epoch 84/100\n",
            "\u001b[1m10/10\u001b[0m \u001b[32m━━━━━━━━━━━━━━━━━━━━\u001b[0m\u001b[37m\u001b[0m \u001b[1m0s\u001b[0m 14ms/step - loss: 22818454.0000 - mean_absolute_error: 3917.7336 - val_loss: 16571984.0000 - val_mean_absolute_error: 3138.6335\n",
            "Epoch 85/100\n",
            "\u001b[1m10/10\u001b[0m \u001b[32m━━━━━━━━━━━━━━━━━━━━\u001b[0m\u001b[37m\u001b[0m \u001b[1m0s\u001b[0m 14ms/step - loss: 21842552.0000 - mean_absolute_error: 3743.8718 - val_loss: 16395928.0000 - val_mean_absolute_error: 3122.5325\n",
            "Epoch 86/100\n",
            "\u001b[1m10/10\u001b[0m \u001b[32m━━━━━━━━━━━━━━━━━━━━\u001b[0m\u001b[37m\u001b[0m \u001b[1m0s\u001b[0m 16ms/step - loss: 21872112.0000 - mean_absolute_error: 3729.1807 - val_loss: 16230170.0000 - val_mean_absolute_error: 3105.5066\n",
            "Epoch 87/100\n",
            "\u001b[1m10/10\u001b[0m \u001b[32m━━━━━━━━━━━━━━━━━━━━\u001b[0m\u001b[37m\u001b[0m \u001b[1m0s\u001b[0m 16ms/step - loss: 25046792.0000 - mean_absolute_error: 4009.2405 - val_loss: 16034722.0000 - val_mean_absolute_error: 3085.8074\n",
            "Epoch 88/100\n",
            "\u001b[1m10/10\u001b[0m \u001b[32m━━━━━━━━━━━━━━━━━━━━\u001b[0m\u001b[37m\u001b[0m \u001b[1m0s\u001b[0m 10ms/step - loss: 19651934.0000 - mean_absolute_error: 3694.9211 - val_loss: 15868242.0000 - val_mean_absolute_error: 3065.2561\n",
            "Epoch 89/100\n",
            "\u001b[1m10/10\u001b[0m \u001b[32m━━━━━━━━━━━━━━━━━━━━\u001b[0m\u001b[37m\u001b[0m \u001b[1m0s\u001b[0m 14ms/step - loss: 23306092.0000 - mean_absolute_error: 3845.1450 - val_loss: 15671582.0000 - val_mean_absolute_error: 3043.4363\n",
            "Epoch 90/100\n",
            "\u001b[1m10/10\u001b[0m \u001b[32m━━━━━━━━━━━━━━━━━━━━\u001b[0m\u001b[37m\u001b[0m \u001b[1m0s\u001b[0m 18ms/step - loss: 18729516.0000 - mean_absolute_error: 3490.1216 - val_loss: 15496651.0000 - val_mean_absolute_error: 3022.5239\n",
            "Epoch 91/100\n",
            "\u001b[1m10/10\u001b[0m \u001b[32m━━━━━━━━━━━━━━━━━━━━\u001b[0m\u001b[37m\u001b[0m \u001b[1m0s\u001b[0m 14ms/step - loss: 20083308.0000 - mean_absolute_error: 3619.6816 - val_loss: 15353810.0000 - val_mean_absolute_error: 3010.5530\n",
            "Epoch 92/100\n",
            "\u001b[1m10/10\u001b[0m \u001b[32m━━━━━━━━━━━━━━━━━━━━\u001b[0m\u001b[37m\u001b[0m \u001b[1m0s\u001b[0m 10ms/step - loss: 19378120.0000 - mean_absolute_error: 3633.2231 - val_loss: 15186010.0000 - val_mean_absolute_error: 2988.8562\n",
            "Epoch 93/100\n",
            "\u001b[1m10/10\u001b[0m \u001b[32m━━━━━━━━━━━━━━━━━━━━\u001b[0m\u001b[37m\u001b[0m \u001b[1m0s\u001b[0m 9ms/step - loss: 20075224.0000 - mean_absolute_error: 3524.1179 - val_loss: 15037872.0000 - val_mean_absolute_error: 2973.5142\n",
            "Epoch 94/100\n",
            "\u001b[1m10/10\u001b[0m \u001b[32m━━━━━━━━━━━━━━━━━━━━\u001b[0m\u001b[37m\u001b[0m \u001b[1m0s\u001b[0m 10ms/step - loss: 21550634.0000 - mean_absolute_error: 3729.7783 - val_loss: 14845520.0000 - val_mean_absolute_error: 2952.1648\n",
            "Epoch 95/100\n",
            "\u001b[1m10/10\u001b[0m \u001b[32m━━━━━━━━━━━━━━━━━━━━\u001b[0m\u001b[37m\u001b[0m \u001b[1m0s\u001b[0m 10ms/step - loss: 16587399.0000 - mean_absolute_error: 3325.9861 - val_loss: 14739206.0000 - val_mean_absolute_error: 2945.8640\n",
            "Epoch 96/100\n",
            "\u001b[1m10/10\u001b[0m \u001b[32m━━━━━━━━━━━━━━━━━━━━\u001b[0m\u001b[37m\u001b[0m \u001b[1m0s\u001b[0m 15ms/step - loss: 19938456.0000 - mean_absolute_error: 3642.6968 - val_loss: 14533802.0000 - val_mean_absolute_error: 2921.7976\n",
            "Epoch 97/100\n",
            "\u001b[1m10/10\u001b[0m \u001b[32m━━━━━━━━━━━━━━━━━━━━\u001b[0m\u001b[37m\u001b[0m \u001b[1m0s\u001b[0m 10ms/step - loss: 18253182.0000 - mean_absolute_error: 3336.3027 - val_loss: 14359317.0000 - val_mean_absolute_error: 2899.2400\n",
            "Epoch 98/100\n",
            "\u001b[1m10/10\u001b[0m \u001b[32m━━━━━━━━━━━━━━━━━━━━\u001b[0m\u001b[37m\u001b[0m \u001b[1m0s\u001b[0m 10ms/step - loss: 19654574.0000 - mean_absolute_error: 3599.0850 - val_loss: 14191835.0000 - val_mean_absolute_error: 2879.1621\n",
            "Epoch 99/100\n",
            "\u001b[1m10/10\u001b[0m \u001b[32m━━━━━━━━━━━━━━━━━━━━\u001b[0m\u001b[37m\u001b[0m \u001b[1m0s\u001b[0m 10ms/step - loss: 17033470.0000 - mean_absolute_error: 3415.5562 - val_loss: 14067866.0000 - val_mean_absolute_error: 2865.7500\n",
            "Epoch 100/100\n",
            "\u001b[1m10/10\u001b[0m \u001b[32m━━━━━━━━━━━━━━━━━━━━\u001b[0m\u001b[37m\u001b[0m \u001b[1m0s\u001b[0m 10ms/step - loss: 17826024.0000 - mean_absolute_error: 3374.2166 - val_loss: 13912947.0000 - val_mean_absolute_error: 2850.7134\n"
          ]
        },
        {
          "output_type": "display_data",
          "data": {
            "text/plain": [
              "<Figure size 640x480 with 1 Axes>"
            ],
            "image/png": "[encoded data removed]"
          },
          "metadata": {}
        }
      ]
    },
    {
      "cell_type": "markdown",
      "source": [
        "# **📊 Step 4: Evaluate the Bonus Model**"
      ],
      "metadata": {
        "id": "r23pwR9G_T1T"
      }
    },
    {
      "cell_type": "code",
      "source": [
        "y_pred_bonus = model_bonus.predict(X_test).flatten()\n",
        "\n",
        "mse_bonus = mean_squared_error(y_test, y_pred_bonus)\n",
        "mae_bonus = mean_absolute_error(y_test, y_pred_bonus)\n",
        "r2_bonus = r2_score(y_test, y_pred_bonus)\n",
        "\n",
        "print(\"MAE (Bonus Model):\", mae_bonus)\n",
        "print(\"MSE (Bonus Model):\", mse_bonus)\n",
        "print(\"R² Score (Bonus Model):\", r2_bonus)"
      ],
      "metadata": {
        "colab": {
          "base_uri": "https://localhost:8080/"
        },
        "id": "n6ZjFhib_fjj",
        "outputId": "89335d22-d8da-4516-929c-6d86d69ce9e7"
      },
      "execution_count": null,
      "outputs": [
        {
          "output_type": "stream",
          "name": "stdout",
          "text": [
            "\u001b[1m4/4\u001b[0m \u001b[32m━━━━━━━━━━━━━━━━━━━━\u001b[0m\u001b[37m\u001b[0m \u001b[1m0s\u001b[0m 35ms/step\n",
            "MAE (Bonus Model): 3159.2618762875\n",
            "MSE (Bonus Model): 14854153.176096527\n",
            "R² Score (Bonus Model): 0.8624273546974266\n"
          ]
        }
      ]
    },
    {
      "cell_type": "markdown",
      "source": [
        "# **📌 Analysis & Insight Markdown Explanation**"
      ],
      "metadata": {
        "id": "3Xy3jCv2AEPY"
      }
    },
    {
      "cell_type": "markdown",
      "source": [
        "We increased the model complexity by adding another hidden layer and increasing the neuron count.\n",
        "\n",
        "This led to a deeper network capable of capturing more complex relationships.\n",
        "\n",
        "Bonus model showed [slightly better or comparable] performance, based on MSE and R² values.\n",
        "\n",
        "However, if the validation loss diverges, it might signal overfitting.\n",
        "\n",
        "A balance between complexity and generalization is key — deeper isn’t always better."
      ],
      "metadata": {
        "id": "Hnai021YALM4"
      }
    }
  ],
  "metadata": {
    "colab": {
      "provenance": []
    },
    "kernelspec": {
      "display_name": "Python 3",
      "name": "python3"
    }
  },
  "nbformat": 4,
  "nbformat_minor": 0
}