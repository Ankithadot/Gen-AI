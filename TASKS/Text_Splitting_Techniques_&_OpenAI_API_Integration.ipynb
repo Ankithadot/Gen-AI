{
  "cells": [
    {
      "cell_type": "markdown",
      "metadata": {
        "id": "zduW_AfKoaBp"
      },
      "source": [
        "# **✅ Part 1: Recursive Character Text Splitter**"
      ]
    },
    {
      "cell_type": "markdown",
      "metadata": {
        "id": "eoVOMK90oshF"
      },
      "source": [
        "**📌 1. What is RecursiveCharacterTextSplitter?**"
      ]
    },
    {
      "cell_type": "markdown",
      "metadata": {
        "id": "9BHBuIC9ozIB"
      },
      "source": [
        "RecursiveCharacterTextSplitter is a smart text splitter from LangChain. It splits large texts into smaller chunks by prioritizing semantic breaks (e.g., paragraphs, sentences) rather than blindly cutting after a fixed number of characters.\n",
        "\n",
        "It recursively tries different separators in order (like \"\\n\\n\", \"\\n\", \" \", \"\") to retain logical groupings."
      ]
    },
    {
      "cell_type": "markdown",
      "metadata": {
        "id": "TKiaeDWJo6mj"
      },
      "source": [
        "**📌 2. Why is it preferred over basic Character Splitter?**"
      ]
    },
    {
      "cell_type": "markdown",
      "metadata": {
        "id": "23nDNtCppMLq"
      },
      "source": [
        "Because it:\n",
        "\n",
        "Preserves sentence meaning and context better.\n",
        "\n",
        "Avoids breaking in the middle of words/sentences.\n",
        "\n",
        "Tries larger logical splits first, making chunks more readable."
      ]
    },
    {
      "cell_type": "markdown",
      "metadata": {
        "id": "ZktmbX4gpQBx"
      },
      "source": [
        "# **📌 3–5. Code to Split Text**"
      ]
    },
    {
      "cell_type": "code",
      "execution_count": 1,
      "metadata": {
        "colab": {
          "base_uri": "https://localhost:8080/"
        },
        "id": "VdAPu_LmpZBg",
        "outputId": "293e5bd5-a414-4efd-ad37-93cc99b83663"
      },
      "outputs": [
        {
          "name": "stdout",
          "output_type": "stream",
          "text": [
            "Chunk 1:\n",
            "Telangana is a state in southern India. Hyderabad is its capital city. Telangana\n",
            "\n",
            "Chunk 2:\n",
            "is famous for its rich heritage, cultural festivals, iconic Charminar, and\n",
            "\n",
            "Chunk 3:\n",
            "delicious Hyderabadi Biryani. It is also known for major IT hubs like HITEC City\n",
            "\n",
            "Chunk 4:\n",
            "and historical temples such as Yadadri.\n",
            "\n"
          ]
        }
      ],
      "source": [
        "from langchain.text_splitter import RecursiveCharacterTextSplitter\n",
        "\n",
        "# Sample Text\n",
        "text = \"\"\"\n",
        "Telangana is a state in southern India. Hyderabad is its capital city. Telangana\n",
        "is famous for its rich heritage, cultural festivals, iconic Charminar, and\n",
        "delicious Hyderabadi Biryani. It is also known for major IT hubs like HITEC City\n",
        "and historical temples such as Yadadri.\n",
        "\"\"\"\n",
        "\n",
        "# Create splitter\n",
        "splitter = RecursiveCharacterTextSplitter(\n",
        "    chunk_size=100,         # max size per chunk\n",
        "    chunk_overlap=20        # overlap between chunks\n",
        ")\n",
        "\n",
        "# Split text\n",
        "chunks = splitter.split_text(text)\n",
        "\n",
        "# Output the chunks\n",
        "for i, chunk in enumerate(chunks):\n",
        "    print(f\"Chunk {i+1}:\\n{chunk}\\n\")\n"
      ]
    },
    {
      "cell_type": "markdown",
      "metadata": {
        "id": "GHOQg_h5qbvE"
      },
      "source": [
        "# ** 6. Where can this technique be practically applied?**"
      ]
    },
    {
      "cell_type": "markdown",
      "metadata": {
        "id": "rQ58VcCuqhXK"
      },
      "source": [
        "**📌Practical Applications**\n",
        "\n",
        "Splitting large documents (PDFs, books) for QA systems.\n",
        "\n",
        "Preprocessing for retrieval-based chatbots.\n",
        "\n",
        "Text chunking before passing to LLMs for summarization or embeddings.\n",
        "\n"
      ]
    },
    {
      "cell_type": "markdown",
      "metadata": {
        "id": "VdfNW4W5rHfw"
      },
      "source": [
        "# **✅ Part 2: Character Text Splitter**"
      ]
    },
    {
      "cell_type": "markdown",
      "metadata": {
        "id": "uI3htmtPrQke"
      },
      "source": [
        "**📌 1. Difference from RecursiveCharacterTextSplitter**"
      ]
    },
    {
      "cell_type": "markdown",
      "metadata": {
        "id": "kb7Tlq5SrWXM"
      },
      "source": [
        "| Feature           | CharacterTextSplitter       | RecursiveCharacterTextSplitter  |\n",
        "| ----------------- | --------------------------- | ------------------------------- |\n",
        "| Splitting logic   | Fixed-size character chunks | Recursive by semantic separator |\n",
        "| Context awareness | ❌ No                        | ✅ Yes                           |\n",
        "| Preferred when    | Simplicity needed           | Semantic coherence needed       |\n"
      ]
    },
    {
      "cell_type": "markdown",
      "metadata": {
        "id": "eV0TvO2eren_"
      },
      "source": [
        "# **📌 2–3. Code**"
      ]
    },
    {
      "cell_type": "code",
      "execution_count": 2,
      "metadata": {
        "colab": {
          "base_uri": "https://localhost:8080/"
        },
        "id": "wUCFd33JrqH3",
        "outputId": "4f6b70cc-4bac-4c37-9da0-09b688dbd0d6"
      },
      "outputs": [
        {
          "name": "stdout",
          "output_type": "stream",
          "text": [
            "Char Split Chunk 1:\n",
            "Telangana is a state in southern India. Hyderabad is its capital city. Telangana \n",
            "is famous for its\n",
            "\n",
            "Char Split Chunk 2:\n",
            "is famous for its rich heritage, cultural festivals, iconic Charminar, and \n",
            "delicious Hyderabadi\n",
            "\n",
            "Char Split Chunk 3:\n",
            "Hyderabadi Biryani. It is also known for major IT hubs like HITEC City \n",
            "and historical temples such\n",
            "\n",
            "Char Split Chunk 4:\n",
            "temples such as Yadadri.\n",
            "\n"
          ]
        }
      ],
      "source": [
        "from langchain.text_splitter import CharacterTextSplitter\n",
        "\n",
        "splitter_char = CharacterTextSplitter(\n",
        "    separator=\" \",         # split on space\n",
        "    chunk_size=100,\n",
        "    chunk_overlap=20\n",
        ")\n",
        "\n",
        "char_chunks = splitter_char.split_text(text)\n",
        "\n",
        "# Display\n",
        "for i, chunk in enumerate(char_chunks):\n",
        "    print(f\"Char Split Chunk {i+1}:\\n{chunk}\\n\")\n"
      ]
    },
    {
      "cell_type": "markdown",
      "metadata": {
        "id": "htuNzxK1rwww"
      },
      "source": [
        "**📌 4. When to prefer CharacterTextSplitter?**"
      ]
    },
    {
      "cell_type": "markdown",
      "metadata": {
        "id": "e70Kjp9dr13r"
      },
      "source": [
        "When processing structured data where semantic coherence isn’t critical.\n",
        "\n",
        "Useful for token-level tasks, e.g., language modeling, when alignment matters more than semantics."
      ]
    },
    {
      "cell_type": "markdown",
      "metadata": {
        "id": "VYHBjDa2r8I1"
      },
      "source": [
        "# **✅ Part 3: HTML Header Text Splitter**"
      ]
    },
    {
      "cell_type": "markdown",
      "metadata": {
        "id": "bsqFK_wEsCUf"
      },
      "source": [
        "**📌 1. What is HTMLHeaderTextSplitter?**"
      ]
    },
    {
      "cell_type": "markdown",
      "metadata": {
        "id": "Pn76921FsJ1D"
      },
      "source": [
        "This splitter breaks HTML content into chunks based on header tags (<h1>, <h2>, <h3>, etc.). It’s very useful when dealing with web pages, blog posts, or knowledge bases, where headers indicate sections."
      ]
    },
    {
      "cell_type": "markdown",
      "metadata": {
        "id": "E6GZ2n5esPXP"
      },
      "source": [
        "# **📌 2–5. Code to Process HTML**"
      ]
    },
    {
      "cell_type": "code",
      "execution_count": 4,
      "metadata": {
        "id": "13pUcn-0sYuK"
      },
      "outputs": [],
      "source": [
        "html_content = \"\"\"\n",
        "<html>\n",
        "  <body>\n",
        "    <h1>Main Title</h1>\n",
        "    <p>This is an intro paragraph.</p>\n",
        "    <h2>Section One</h2>\n",
        "    <p>Details about section one.</p>\n",
        "    <h3>Subsection</h3>\n",
        "    <p>Further details here.</p>\n",
        "    <h2>Section Two</h2>\n",
        "    <p>More content here.</p>\n",
        "  </body>\n",
        "</html>\n",
        "\"\"\""
      ]
    },
    {
      "cell_type": "code",
      "execution_count": 5,
      "metadata": {
        "colab": {
          "base_uri": "https://localhost:8080/"
        },
        "id": "bcQ4Xkv1tMC9",
        "outputId": "511bbfc0-9c30-481c-ffd0-eacb0ee33835"
      },
      "outputs": [
        {
          "name": "stdout",
          "output_type": "stream",
          "text": [
            "\n",
            "Chunk 1:\n",
            "Content: Main Title\n",
            "Metadata: {'Header 1': 'Main Title'}\n",
            "\n",
            "Chunk 2:\n",
            "Content: This is an intro paragraph.\n",
            "Metadata: {'Header 1': 'Main Title'}\n",
            "\n",
            "Chunk 3:\n",
            "Content: Section One\n",
            "Metadata: {'Header 1': 'Main Title', 'Header 2': 'Section One'}\n",
            "\n",
            "Chunk 4:\n",
            "Content: Details about section one.\n",
            "Metadata: {'Header 1': 'Main Title', 'Header 2': 'Section One'}\n",
            "\n",
            "Chunk 5:\n",
            "Content: Subsection\n",
            "Metadata: {'Header 1': 'Main Title', 'Header 2': 'Section One', 'Header 3': 'Subsection'}\n",
            "\n",
            "Chunk 6:\n",
            "Content: Further details here.\n",
            "Metadata: {'Header 1': 'Main Title', 'Header 2': 'Section One', 'Header 3': 'Subsection'}\n",
            "\n",
            "Chunk 7:\n",
            "Content: Section Two\n",
            "Metadata: {'Header 1': 'Main Title', 'Header 2': 'Section Two'}\n",
            "\n",
            "Chunk 8:\n",
            "Content: More content here.\n",
            "Metadata: {'Header 1': 'Main Title', 'Header 2': 'Section Two'}\n"
          ]
        }
      ],
      "source": [
        "from langchain.text_splitter import HTMLHeaderTextSplitter\n",
        "\n",
        "html_string = \"\"\"\n",
        "<html>\n",
        "  <body>\n",
        "    <h1>Main Title</h1>\n",
        "    <p>This is an intro paragraph.</p>\n",
        "    <h2>Section One</h2>\n",
        "    <p>Details about section one.</p>\n",
        "    <h3>Subsection</h3>\n",
        "    <p>Further details here.</p>\n",
        "    <h2>Section Two</h2>\n",
        "    <p>More content here.</p>\n",
        "  </body>\n",
        "</html>\n",
        "\"\"\"\n",
        "\n",
        "# Define which headers to split on\n",
        "html_splitter = HTMLHeaderTextSplitter(headers_to_split_on=[(\"h1\", \"Header 1\"), (\"h2\", \"Header 2\"), (\"h3\", \"Header 3\")])\n",
        "\n",
        "docs = html_splitter.split_text(html_string)\n",
        "\n",
        "# Display chunks and metadata\n",
        "for i, doc in enumerate(docs):\n",
        "    print(f\"\\nChunk {i+1}:\\nContent: {doc.page_content}\\nMetadata: {doc.metadata}\")\n"
      ]
    },
    {
      "cell_type": "markdown",
      "metadata": {
        "id": "TDf_mpVetWq7"
      },
      "source": [
        "\n",
        "## 📌 6. Why this is useful?"
      ]
    },
    {
      "cell_type": "markdown",
      "metadata": {
        "id": "MTH4YcdKtmkC"
      },
      "source": [
        "Great for structuring web scraping results.\n",
        "\n",
        "Useful for search indexing, QA systems, or summarizing webpage sections.\n",
        "\n",
        "Maintains document hierarchy.\n",
        "\n"
      ]
    },
    {
      "cell_type": "markdown",
      "metadata": {
        "id": "lcDpFuBztsZA"
      },
      "source": [
        "\n",
        "# **✅ Part 4: OpenAI API Integration**"
      ]
    },
    {
      "cell_type": "markdown",
      "metadata": {
        "id": "DE6y_D7Pt2BA"
      },
      "source": [
        "**📌 1–4. Code (with dummy API key)**"
      ]
    },
    {
      "cell_type": "code",
      "execution_count": 14,
      "metadata": {
        "colab": {
          "base_uri": "https://localhost:8080/"
        },
        "id": "bHCd1eWAPFiw",
        "outputId": "40a082be-d12a-46a6-d670-3fe4efd7d17d"
      },
      "outputs": [
        {
          "name": "stdout",
          "output_type": "stream",
          "text": [
            "Telangana, a state in southern India, is known for its rich history, cultural heritage, and natural beauty. Here are some famous places to visit in Telangana:\n",
            "\n",
            "1. **Charminar**: A iconic monument and symbol of Hyderabad, the capital city of Telangana. It's a beautiful example of Indo-Islamic architecture.\n",
            "2. **Golconda Fort**: A historic fort located in Hyderabad, known for its impressive architecture, acoustic effects, and stunning views of the city.\n",
            "3. **Hussain Sagar Lake**: A large artificial lake in Hyderabad, popular for boating, water sports, and a giant Buddha statue in the middle of the lake.\n",
            "4. **Birla Mandir**: A beautiful Hindu temple located on a hill in Hyderabad, offering stunning views of the city and a peaceful atmosphere.\n",
            "5. **Warangal Fort**: A historic fort located in Warangal, known for its impressive architecture, intricate carvings, and rich history.\n",
            "6. **Kakatiya Thermal Power Station**: A popular tourist destination in Warangal, offering a glimpse into the state's industrial heritage.\n",
            "7. **Nagarjuna Sagar Dam**: A massive dam located in Nalgonda district, known for its impressive architecture and scenic surroundings.\n",
            "8. **Medak Church**: A beautiful church located in Medak, known for its stunning architecture, peaceful atmosphere, and historic significance.\n",
            "9. **Bhongir Fort**: A historic fort located in Yadadri Bhuvanagiri district, known for its impressive architecture and stunning views of the surrounding landscape.\n",
            "10. **Kuntala Waterfalls**: A beautiful waterfall located in Adilabad district, known for its natural beauty, scenic surroundings, and trekking opportunities.\n",
            "11. **Ramappa Temple**: A UNESCO World Heritage Site located in Warangal district, known for its stunning architecture, intricate carvings, and historic significance.\n",
            "12. **Qutub Shahi Tombs**: A historic necropolis located in Hyderabad, known for its beautiful architecture, intricate carvings, and rich history.\n",
            "13. **Shilparamam**: A crafts village located in Hyderabad, known for its traditional crafts, cultural events, and shopping opportunities.\n",
            "14. **Nehru Zoological Park**: A popular zoo located in Hyderabad, known for its diverse wildlife, natural habitats, and conservation efforts.\n",
            "15. **Ananthagiri Hills**: A scenic hill station located in Vikarabad district, known for its natural beauty, trekking opportunities, and coffee plantations.\n",
            "\n",
            "These are just a few of the many amazing places to visit in Telangana. The state has a rich cultural heritage, stunning natural beauty, and a vibrant atmosphere, making it a great destination for tourists and travelers.\n"
          ]
        }
      ],
      "source": [
        "from openai import OpenAI\n",
        "\n",
        "# Load environment variables from .env file\n",
        "#pip install python-dotenv # This should be in a separate cell with !\n",
        "#from dotenv import load_dotenv\n",
        "#load_dotenv()\n",
        "\n",
        "#import os # Duplicate import\n",
        "#import os\n",
        "\n",
        "# Initialize OpenAI client with your API key\n",
        "# Replace \"e8a848d8-08dd-4438-bdd5-10848106389e\" with your actual key or get it securely\n",
        "# Using os.getenv here is incorrect as the key is directly provided\n",
        "client = OpenAI(\n",
        "    api_key=\"e8a848d8-08dd-4438-bdd5-10848106389e\", # Replace with your actual key or get from secrets\n",
        "    base_url=\"https://api.sambanova.ai/v1\",  # SambaNova's endpoint\n",
        ")\n",
        "\n",
        "# Create a chat completion request with the OpenAI client\n",
        "response = client.chat.completions.create(\n",
        "model=\"Meta-Llama-3.3-70B-Instruct\",\n",
        "messages=[ {\"role\": \"user\", \"content\": \"What are some famous places to visit in Telangana?\"}\n",
        " ],\n",
        " )\n",
        "\n",
        "# Print the response from the OpenAI API\n",
        "print(response.choices[0].message.content)"
      ]
    },
    {
      "cell_type": "code",
      "execution_count": 15,
      "metadata": {
        "colab": {
          "base_uri": "https://localhost:8080/"
        },
        "id": "1SFz0aSoPzSO",
        "outputId": "598cf7e6-4db4-4a41-a354-19771301ce2f"
      },
      "outputs": [
        {
          "name": "stdout",
          "output_type": "stream",
          "text": [
            "తెలంగాణలో పర్యాటక ప్రదేశాలు:\n",
            "\n",
            "1. చార్మినార్: హైదరాబాద్‌లోని ప్రసిద్ధ చారిత్రక నిర్మాణం.\n",
            "2. గోల్కొండ కోట: హైదరాబాద్‌లోని చారిత్రక కోట.\n",
            "3. బిర్లా మందిర్: హైదరాబాద్‌లోని ప్రసిద్ధ దేవాలయం.\n",
            "4. నెహ్రూ జంతుప్రదర్శనశాల: హైదరాబాద్‌లోని ప్రసిద్ధ జంతుప్రదర్శనశాల.\n",
            "5. రామోజీ ఫిల్మ్ సిటీ: హైదరాబాద్‌లోని ప్రసిద్ధ సినీ పరిశ్రమ.\n",
            "6. కొండాపూర్: హైదరాబాద్‌లోని ప్రసిద్ధ పర్యాటక ప్రదేశం.\n",
            "7. అనంతగిరి: వికారాబాద్ జిల్లాలోని ప్రసిద్ధ పర్యాటక ప్రదేశం.\n",
            "8. నాగార్జునసాగర్: నల్గొండ జిల్లాలోని ప్రసిద్ధ పర్యాటక ప్రదేశం.\n",
            "9. భద్రాచలం: ఖమ్మం జిల్లాలోని ప్రసిద్ధ పర్యాటక ప్రదేశం.\n",
            "10. మెదక్ చర్చి: మెదక్ జిల్లాలోని ప్రసిద్ధ చర్చి.\n",
            "\n",
            "ఇవి కొన్ని ప్రసిద్ధ పర్యాటక ప్రదేశాలు. తెలంగాణలో మరిన్ని పర్యాటక ప్రదేశాలు ఉన్నాయి.\n"
          ]
        }
      ],
      "source": [
        "from openai import OpenAI\n",
        "\n",
        "# Load environment variables from .env file\n",
        "#pip install python-dotenv # This should be in a separate cell with !\n",
        "#from dotenv import load_dotenv\n",
        "#load_dotenv()\n",
        "\n",
        "#import os # Duplicate import\n",
        "#import os\n",
        "\n",
        "# Initialize OpenAI client with your API key\n",
        "# Replace \"e8a848d8-08dd-4438-bdd5-10848106389e\" with your actual key or get it securely\n",
        "# Using os.getenv here is incorrect as the key is directly provided\n",
        "client = OpenAI(\n",
        "    api_key=\"e8a848d8-08dd-4438-bdd5-10848106389e\", # Replace with your actual key or get from secrets\n",
        "    base_url=\"https://api.sambanova.ai/v1\",  # SambaNova's endpoint\n",
        ")\n",
        "\n",
        "# Create a chat completion request with the OpenAI client\n",
        "response = client.chat.completions.create(\n",
        "model=\"Meta-Llama-3.3-70B-Instruct\",\n",
        "messages=[ {\"role\": \"user\", \"content\": \"What are some famous places to visit in Telangana in telugu?\"}\n",
        " ],\n",
        " )\n",
        "\n",
        "# Print the response from the OpenAI API\n",
        "print(response.choices[0].message.content)"
      ]
    },
    {
      "cell_type": "markdown",
      "metadata": {
        "id": "ANE9KveOQRPS"
      },
      "source": [
        "# **📌 5. How Chat API Processes Requests?**\n",
        "\n",
        "The messages parameter holds conversation history.\n",
        "\n",
        "role indicates if the message is from \"user\", \"system\", or \"assistant\".\n",
        "\n",
        "The API reads the prompt and generates a response in the selected model (gpt-4o here).\n",
        "\n"
      ]
    }
  ],
  "metadata": {
    "colab": {
      "provenance": []
    },
    "kernelspec": {
      "display_name": "Python 3",
      "name": "python3"
    },
    "language_info": {
      "name": "python"
    }
  },
  "nbformat": 4,
  "nbformat_minor": 0
}
